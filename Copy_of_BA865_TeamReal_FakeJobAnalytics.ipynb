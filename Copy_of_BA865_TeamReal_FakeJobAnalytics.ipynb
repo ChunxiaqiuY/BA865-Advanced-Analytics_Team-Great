{
  "cells": [
    {
      "cell_type": "markdown",
      "metadata": {
        "id": "view-in-github",
        "colab_type": "text"
      },
      "source": [
        "<a href=\"https://colab.research.google.com/github/ChunxiaqiuY/BA865-Advanced-Analytics_Team-Great/blob/main/Copy_of_BA865_TeamReal_FakeJobAnalytics.ipynb\" target=\"_parent\"><img src=\"https://colab.research.google.com/assets/colab-badge.svg\" alt=\"Open In Colab\"/></a>"
      ]
    },
    {
      "cell_type": "markdown",
      "metadata": {
        "id": "fVp6WAhEY8Oq"
      },
      "source": [
        "##BA865 Team Real - Fake Job Analyise\n",
        "Members: Yipeng(Caroline) Guo: ypguo@bu.edu\n",
        "\n",
        "Yilun(Allen) Wang: yilun830@bu.edu\n",
        "\n",
        "Niming(Danny) Wang: wang2021@bu.edu\n",
        "\n",
        "Mochi Zhang: zhangmc@bu.edu\n",
        "\n",
        "Chunxiaqiu(Tommy) Yang: chunqiu@bu.edu\n",
        "\n"
      ]
    },
    {
      "cell_type": "markdown",
      "metadata": {
        "id": "DuDkJRYhbI0H"
      },
      "source": [
        "#Business Problem & Motivation\n",
        "The problem motivates us is the possibility of identifying fake job recruiting news\n",
        "\n",
        "\n",
        "1.   Recognition of fake job posting by deep learning (NN) technologies, including transfering text into code, MLP model trainging and testing.\n",
        "2.   Exploration of creating fraud testing system to ensure safe hiring environment.\n",
        "\n",
        "The rational behind this is that, with the growth of unemployed and job gaps due to economic stres and Covid impcat, there are multiple websites or Apps that provide job recruting, applying, and other posting. However, scammers may take advantage of this and post fake job information to gather applicants' personal information and privacy. The project aims to distinguish real and fake job recruiting news.\n",
        "\n",
        "\n",
        "\n",
        "\n"
      ]
    },
    {
      "cell_type": "markdown",
      "metadata": {
        "id": "d3SiOTlZgnm0"
      },
      "source": [
        "##Dataset\n",
        "\n",
        "https://www.kaggle.com/shivamb/real-or-fake-fake-jobposting-prediction\n",
        "\n",
        "The Employment Scam Aegean Dataset was explicitly granted and acknowledged by the Laboratory of Information & Communication System Security, The University of the Aegean (http://emscad.samos.aegean.gr/). With thousands of hiring news collected with their detailed description, it allows us to dig deeper than we would imagine. This dataset contains 18K posting entries with 18 features captured, out of which about 800 are fake. It consists of both textual information and meta-information about the jobs."
      ]
    },
    {
      "cell_type": "code",
      "execution_count": null,
      "metadata": {
        "colab": {
          "base_uri": "https://localhost:8080/"
        },
        "id": "Fkfw8enWjpdu",
        "outputId": "ced34391-195e-4256-9ccc-e14c41455aaf"
      },
      "outputs": [
        {
          "output_type": "stream",
          "name": "stdout",
          "text": [
            "Requirement already satisfied: mlxtend in /usr/local/lib/python3.7/dist-packages (0.14.0)\n",
            "Requirement already satisfied: scipy>=0.17 in /usr/local/lib/python3.7/dist-packages (from mlxtend) (1.4.1)\n",
            "Requirement already satisfied: pandas>=0.17.1 in /usr/local/lib/python3.7/dist-packages (from mlxtend) (1.3.5)\n",
            "Requirement already satisfied: scikit-learn>=0.18 in /usr/local/lib/python3.7/dist-packages (from mlxtend) (1.0.2)\n",
            "Requirement already satisfied: matplotlib>=1.5.1 in /usr/local/lib/python3.7/dist-packages (from mlxtend) (3.2.2)\n",
            "Requirement already satisfied: setuptools in /usr/local/lib/python3.7/dist-packages (from mlxtend) (57.4.0)\n",
            "Requirement already satisfied: numpy>=1.10.4 in /usr/local/lib/python3.7/dist-packages (from mlxtend) (1.21.5)\n",
            "Requirement already satisfied: kiwisolver>=1.0.1 in /usr/local/lib/python3.7/dist-packages (from matplotlib>=1.5.1->mlxtend) (1.3.2)\n",
            "Requirement already satisfied: pyparsing!=2.0.4,!=2.1.2,!=2.1.6,>=2.0.1 in /usr/local/lib/python3.7/dist-packages (from matplotlib>=1.5.1->mlxtend) (3.0.7)\n",
            "Requirement already satisfied: cycler>=0.10 in /usr/local/lib/python3.7/dist-packages (from matplotlib>=1.5.1->mlxtend) (0.11.0)\n",
            "Requirement already satisfied: python-dateutil>=2.1 in /usr/local/lib/python3.7/dist-packages (from matplotlib>=1.5.1->mlxtend) (2.8.2)\n",
            "Requirement already satisfied: pytz>=2017.3 in /usr/local/lib/python3.7/dist-packages (from pandas>=0.17.1->mlxtend) (2018.9)\n",
            "Requirement already satisfied: six>=1.5 in /usr/local/lib/python3.7/dist-packages (from python-dateutil>=2.1->matplotlib>=1.5.1->mlxtend) (1.15.0)\n",
            "Requirement already satisfied: threadpoolctl>=2.0.0 in /usr/local/lib/python3.7/dist-packages (from scikit-learn>=0.18->mlxtend) (3.1.0)\n",
            "Requirement already satisfied: joblib>=0.11 in /usr/local/lib/python3.7/dist-packages (from scikit-learn>=0.18->mlxtend) (1.1.0)\n",
            "Collecting scikit-plot\n",
            "  Downloading scikit_plot-0.3.7-py3-none-any.whl (33 kB)\n",
            "Requirement already satisfied: scikit-learn>=0.18 in /usr/local/lib/python3.7/dist-packages (from scikit-plot) (1.0.2)\n",
            "Requirement already satisfied: joblib>=0.10 in /usr/local/lib/python3.7/dist-packages (from scikit-plot) (1.1.0)\n",
            "Requirement already satisfied: scipy>=0.9 in /usr/local/lib/python3.7/dist-packages (from scikit-plot) (1.4.1)\n",
            "Requirement already satisfied: matplotlib>=1.4.0 in /usr/local/lib/python3.7/dist-packages (from scikit-plot) (3.2.2)\n",
            "Requirement already satisfied: numpy>=1.11 in /usr/local/lib/python3.7/dist-packages (from matplotlib>=1.4.0->scikit-plot) (1.21.5)\n",
            "Requirement already satisfied: kiwisolver>=1.0.1 in /usr/local/lib/python3.7/dist-packages (from matplotlib>=1.4.0->scikit-plot) (1.3.2)\n",
            "Requirement already satisfied: python-dateutil>=2.1 in /usr/local/lib/python3.7/dist-packages (from matplotlib>=1.4.0->scikit-plot) (2.8.2)\n",
            "Requirement already satisfied: pyparsing!=2.0.4,!=2.1.2,!=2.1.6,>=2.0.1 in /usr/local/lib/python3.7/dist-packages (from matplotlib>=1.4.0->scikit-plot) (3.0.7)\n",
            "Requirement already satisfied: cycler>=0.10 in /usr/local/lib/python3.7/dist-packages (from matplotlib>=1.4.0->scikit-plot) (0.11.0)\n",
            "Requirement already satisfied: six>=1.5 in /usr/local/lib/python3.7/dist-packages (from python-dateutil>=2.1->matplotlib>=1.4.0->scikit-plot) (1.15.0)\n",
            "Requirement already satisfied: threadpoolctl>=2.0.0 in /usr/local/lib/python3.7/dist-packages (from scikit-learn>=0.18->scikit-plot) (3.1.0)\n",
            "Installing collected packages: scikit-plot\n",
            "Successfully installed scikit-plot-0.3.7\n",
            "Collecting newspaper3k\n",
            "  Downloading newspaper3k-0.2.8-py3-none-any.whl (211 kB)\n",
            "\u001b[K     |████████████████████████████████| 211 kB 4.0 MB/s \n",
            "\u001b[?25hCollecting tldextract>=2.0.1\n",
            "  Downloading tldextract-3.2.0-py3-none-any.whl (87 kB)\n",
            "\u001b[K     |████████████████████████████████| 87 kB 3.9 MB/s \n",
            "\u001b[?25hRequirement already satisfied: python-dateutil>=2.5.3 in /usr/local/lib/python3.7/dist-packages (from newspaper3k) (2.8.2)\n",
            "Requirement already satisfied: beautifulsoup4>=4.4.1 in /usr/local/lib/python3.7/dist-packages (from newspaper3k) (4.6.3)\n",
            "Requirement already satisfied: requests>=2.10.0 in /usr/local/lib/python3.7/dist-packages (from newspaper3k) (2.23.0)\n",
            "Collecting cssselect>=0.9.2\n",
            "  Downloading cssselect-1.1.0-py2.py3-none-any.whl (16 kB)\n",
            "Collecting feedfinder2>=0.0.4\n",
            "  Downloading feedfinder2-0.0.4.tar.gz (3.3 kB)\n",
            "Requirement already satisfied: nltk>=3.2.1 in /usr/local/lib/python3.7/dist-packages (from newspaper3k) (3.2.5)\n",
            "Collecting jieba3k>=0.35.1\n",
            "  Downloading jieba3k-0.35.1.zip (7.4 MB)\n",
            "\u001b[K     |████████████████████████████████| 7.4 MB 35.5 MB/s \n",
            "\u001b[?25hRequirement already satisfied: lxml>=3.6.0 in /usr/local/lib/python3.7/dist-packages (from newspaper3k) (4.2.6)\n",
            "Requirement already satisfied: PyYAML>=3.11 in /usr/local/lib/python3.7/dist-packages (from newspaper3k) (3.13)\n",
            "Collecting tinysegmenter==0.3\n",
            "  Downloading tinysegmenter-0.3.tar.gz (16 kB)\n",
            "Requirement already satisfied: Pillow>=3.3.0 in /usr/local/lib/python3.7/dist-packages (from newspaper3k) (7.1.2)\n",
            "Collecting feedparser>=5.2.1\n",
            "  Downloading feedparser-6.0.8-py3-none-any.whl (81 kB)\n",
            "\u001b[K     |████████████████████████████████| 81 kB 7.1 MB/s \n",
            "\u001b[?25hRequirement already satisfied: six in /usr/local/lib/python3.7/dist-packages (from feedfinder2>=0.0.4->newspaper3k) (1.15.0)\n",
            "Collecting sgmllib3k\n",
            "  Downloading sgmllib3k-1.0.0.tar.gz (5.8 kB)\n",
            "Requirement already satisfied: idna<3,>=2.5 in /usr/local/lib/python3.7/dist-packages (from requests>=2.10.0->newspaper3k) (2.10)\n",
            "Requirement already satisfied: urllib3!=1.25.0,!=1.25.1,<1.26,>=1.21.1 in /usr/local/lib/python3.7/dist-packages (from requests>=2.10.0->newspaper3k) (1.24.3)\n",
            "Requirement already satisfied: chardet<4,>=3.0.2 in /usr/local/lib/python3.7/dist-packages (from requests>=2.10.0->newspaper3k) (3.0.4)\n",
            "Requirement already satisfied: certifi>=2017.4.17 in /usr/local/lib/python3.7/dist-packages (from requests>=2.10.0->newspaper3k) (2021.10.8)\n",
            "Collecting requests-file>=1.4\n",
            "  Downloading requests_file-1.5.1-py2.py3-none-any.whl (3.7 kB)\n",
            "Requirement already satisfied: filelock>=3.0.8 in /usr/local/lib/python3.7/dist-packages (from tldextract>=2.0.1->newspaper3k) (3.6.0)\n",
            "Building wheels for collected packages: tinysegmenter, feedfinder2, jieba3k, sgmllib3k\n",
            "  Building wheel for tinysegmenter (setup.py) ... \u001b[?25l\u001b[?25hdone\n",
            "  Created wheel for tinysegmenter: filename=tinysegmenter-0.3-py3-none-any.whl size=13553 sha256=8a906c835f37869bd607b96ed58c53bb3681e4d7ead774db04ed3398e7635a5d\n",
            "  Stored in directory: /root/.cache/pip/wheels/df/67/41/faca10fa501ca010be41b49d40360c2959e1c4f09bcbfa37fa\n",
            "  Building wheel for feedfinder2 (setup.py) ... \u001b[?25l\u001b[?25hdone\n",
            "  Created wheel for feedfinder2: filename=feedfinder2-0.0.4-py3-none-any.whl size=3357 sha256=9bff01e495f48ca1788434f225a97c2b6ac0ca564a2e7c6bc9a66a597e59a859\n",
            "  Stored in directory: /root/.cache/pip/wheels/7f/d4/8f/6e2ca54744c9d7292d88ddb8d42876bcdab5e6d84a21c10346\n",
            "  Building wheel for jieba3k (setup.py) ... \u001b[?25l\u001b[?25hdone\n",
            "  Created wheel for jieba3k: filename=jieba3k-0.35.1-py3-none-any.whl size=7398404 sha256=7f02c8ab58c146b84897d4ab30b0c7db46e2ca3bfe84366923b92cb44d419952\n",
            "  Stored in directory: /root/.cache/pip/wheels/4c/91/46/3c208287b726df325a5979574324878b679116e4baae1af3c3\n",
            "  Building wheel for sgmllib3k (setup.py) ... \u001b[?25l\u001b[?25hdone\n",
            "  Created wheel for sgmllib3k: filename=sgmllib3k-1.0.0-py3-none-any.whl size=6066 sha256=155b4ed217b4e2c27864450aa64433c0b0de0d964a3ad42726e391404087495e\n",
            "  Stored in directory: /root/.cache/pip/wheels/73/ad/a4/0dff4a6ef231fc0dfa12ffbac2a36cebfdddfe059f50e019aa\n",
            "Successfully built tinysegmenter feedfinder2 jieba3k sgmllib3k\n",
            "Installing collected packages: sgmllib3k, requests-file, tldextract, tinysegmenter, jieba3k, feedparser, feedfinder2, cssselect, newspaper3k\n",
            "Successfully installed cssselect-1.1.0 feedfinder2-0.0.4 feedparser-6.0.8 jieba3k-0.35.1 newspaper3k-0.2.8 requests-file-1.5.1 sgmllib3k-1.0.0 tinysegmenter-0.3 tldextract-3.2.0\n",
            "Requirement already satisfied: spacy in /usr/local/lib/python3.7/dist-packages (2.2.4)\n",
            "Collecting spacy\n",
            "  Downloading spacy-3.2.3-cp37-cp37m-manylinux_2_17_x86_64.manylinux2014_x86_64.whl (6.0 MB)\n",
            "\u001b[K     |████████████████████████████████| 6.0 MB 3.2 MB/s \n",
            "\u001b[?25hRequirement already satisfied: numpy>=1.15.0 in /usr/local/lib/python3.7/dist-packages (from spacy) (1.21.5)\n",
            "Collecting spacy-legacy<3.1.0,>=3.0.8\n",
            "  Downloading spacy_legacy-3.0.9-py2.py3-none-any.whl (20 kB)\n",
            "Collecting langcodes<4.0.0,>=3.2.0\n",
            "  Downloading langcodes-3.3.0-py3-none-any.whl (181 kB)\n",
            "\u001b[K     |████████████████████████████████| 181 kB 20.4 MB/s \n",
            "\u001b[?25hRequirement already satisfied: typing-extensions<4.0.0.0,>=3.7.4 in /usr/local/lib/python3.7/dist-packages (from spacy) (3.10.0.2)\n",
            "Collecting spacy-loggers<2.0.0,>=1.0.0\n",
            "  Downloading spacy_loggers-1.0.1-py3-none-any.whl (7.0 kB)\n",
            "Requirement already satisfied: packaging>=20.0 in /usr/local/lib/python3.7/dist-packages (from spacy) (21.3)\n",
            "Requirement already satisfied: wasabi<1.1.0,>=0.8.1 in /usr/local/lib/python3.7/dist-packages (from spacy) (0.9.0)\n",
            "Requirement already satisfied: requests<3.0.0,>=2.13.0 in /usr/local/lib/python3.7/dist-packages (from spacy) (2.23.0)\n",
            "Collecting thinc<8.1.0,>=8.0.12\n",
            "  Downloading thinc-8.0.14-cp37-cp37m-manylinux_2_17_x86_64.manylinux2014_x86_64.whl (652 kB)\n",
            "\u001b[K     |████████████████████████████████| 652 kB 40.0 MB/s \n",
            "\u001b[?25hRequirement already satisfied: murmurhash<1.1.0,>=0.28.0 in /usr/local/lib/python3.7/dist-packages (from spacy) (1.0.6)\n",
            "Requirement already satisfied: tqdm<5.0.0,>=4.38.0 in /usr/local/lib/python3.7/dist-packages (from spacy) (4.63.0)\n",
            "Collecting pathy>=0.3.5\n",
            "  Downloading pathy-0.6.1-py3-none-any.whl (42 kB)\n",
            "\u001b[K     |████████████████████████████████| 42 kB 986 kB/s \n",
            "\u001b[?25hCollecting pydantic!=1.8,!=1.8.1,<1.9.0,>=1.7.4\n",
            "  Downloading pydantic-1.8.2-cp37-cp37m-manylinux2014_x86_64.whl (10.1 MB)\n",
            "\u001b[K     |████████████████████████████████| 10.1 MB 43.1 MB/s \n",
            "\u001b[?25hCollecting typer<0.5.0,>=0.3.0\n",
            "  Downloading typer-0.4.0-py3-none-any.whl (27 kB)\n",
            "Requirement already satisfied: jinja2 in /usr/local/lib/python3.7/dist-packages (from spacy) (2.11.3)\n",
            "Requirement already satisfied: cymem<2.1.0,>=2.0.2 in /usr/local/lib/python3.7/dist-packages (from spacy) (2.0.6)\n",
            "Requirement already satisfied: preshed<3.1.0,>=3.0.2 in /usr/local/lib/python3.7/dist-packages (from spacy) (3.0.6)\n",
            "Requirement already satisfied: setuptools in /usr/local/lib/python3.7/dist-packages (from spacy) (57.4.0)\n",
            "Collecting catalogue<2.1.0,>=2.0.6\n",
            "  Downloading catalogue-2.0.6-py3-none-any.whl (17 kB)\n",
            "Collecting srsly<3.0.0,>=2.4.1\n",
            "  Downloading srsly-2.4.2-cp37-cp37m-manylinux_2_17_x86_64.manylinux2014_x86_64.whl (451 kB)\n",
            "\u001b[K     |████████████████████████████████| 451 kB 39.8 MB/s \n",
            "\u001b[?25hRequirement already satisfied: blis<0.8.0,>=0.4.0 in /usr/local/lib/python3.7/dist-packages (from spacy) (0.4.1)\n",
            "Requirement already satisfied: zipp>=0.5 in /usr/local/lib/python3.7/dist-packages (from catalogue<2.1.0,>=2.0.6->spacy) (3.7.0)\n",
            "Requirement already satisfied: pyparsing!=3.0.5,>=2.0.2 in /usr/local/lib/python3.7/dist-packages (from packaging>=20.0->spacy) (3.0.7)\n",
            "Requirement already satisfied: smart-open<6.0.0,>=5.0.0 in /usr/local/lib/python3.7/dist-packages (from pathy>=0.3.5->spacy) (5.2.1)\n",
            "Requirement already satisfied: idna<3,>=2.5 in /usr/local/lib/python3.7/dist-packages (from requests<3.0.0,>=2.13.0->spacy) (2.10)\n",
            "Requirement already satisfied: certifi>=2017.4.17 in /usr/local/lib/python3.7/dist-packages (from requests<3.0.0,>=2.13.0->spacy) (2021.10.8)\n",
            "Requirement already satisfied: urllib3!=1.25.0,!=1.25.1,<1.26,>=1.21.1 in /usr/local/lib/python3.7/dist-packages (from requests<3.0.0,>=2.13.0->spacy) (1.24.3)\n",
            "Requirement already satisfied: chardet<4,>=3.0.2 in /usr/local/lib/python3.7/dist-packages (from requests<3.0.0,>=2.13.0->spacy) (3.0.4)\n",
            "Requirement already satisfied: click<9.0.0,>=7.1.1 in /usr/local/lib/python3.7/dist-packages (from typer<0.5.0,>=0.3.0->spacy) (7.1.2)\n",
            "Requirement already satisfied: MarkupSafe>=0.23 in /usr/local/lib/python3.7/dist-packages (from jinja2->spacy) (2.0.1)\n",
            "Installing collected packages: catalogue, typer, srsly, pydantic, thinc, spacy-loggers, spacy-legacy, pathy, langcodes, spacy\n",
            "  Attempting uninstall: catalogue\n",
            "    Found existing installation: catalogue 1.0.0\n",
            "    Uninstalling catalogue-1.0.0:\n",
            "      Successfully uninstalled catalogue-1.0.0\n",
            "  Attempting uninstall: srsly\n",
            "    Found existing installation: srsly 1.0.5\n",
            "    Uninstalling srsly-1.0.5:\n",
            "      Successfully uninstalled srsly-1.0.5\n",
            "  Attempting uninstall: thinc\n",
            "    Found existing installation: thinc 7.4.0\n",
            "    Uninstalling thinc-7.4.0:\n",
            "      Successfully uninstalled thinc-7.4.0\n",
            "  Attempting uninstall: spacy\n",
            "    Found existing installation: spacy 2.2.4\n",
            "    Uninstalling spacy-2.2.4:\n",
            "      Successfully uninstalled spacy-2.2.4\n",
            "Successfully installed catalogue-2.0.6 langcodes-3.3.0 pathy-0.6.1 pydantic-1.8.2 spacy-3.2.3 spacy-legacy-3.0.9 spacy-loggers-1.0.1 srsly-2.4.2 thinc-8.0.14 typer-0.4.0\n",
            "Collecting textacy\n",
            "  Downloading textacy-0.11.0-py3-none-any.whl (200 kB)\n",
            "\u001b[K     |████████████████████████████████| 200 kB 2.6 MB/s \n",
            "\u001b[?25hCollecting jellyfish>=0.8.0\n",
            "  Downloading jellyfish-0.9.0.tar.gz (132 kB)\n",
            "\u001b[K     |████████████████████████████████| 132 kB 33.6 MB/s \n",
            "\u001b[?25hCollecting pyphen>=0.10.0\n",
            "  Downloading pyphen-0.12.0-py3-none-any.whl (2.0 MB)\n",
            "\u001b[K     |████████████████████████████████| 2.0 MB 49.1 MB/s \n",
            "\u001b[?25hRequirement already satisfied: requests>=2.10.0 in /usr/local/lib/python3.7/dist-packages (from textacy) (2.23.0)\n",
            "Requirement already satisfied: scipy>=0.17.0 in /usr/local/lib/python3.7/dist-packages (from textacy) (1.4.1)\n",
            "Requirement already satisfied: networkx>=2.0 in /usr/local/lib/python3.7/dist-packages (from textacy) (2.6.3)\n",
            "Requirement already satisfied: scikit-learn>=0.19.0 in /usr/local/lib/python3.7/dist-packages (from textacy) (1.0.2)\n",
            "Requirement already satisfied: tqdm>=4.19.6 in /usr/local/lib/python3.7/dist-packages (from textacy) (4.63.0)\n",
            "Requirement already satisfied: numpy>=1.17.0 in /usr/local/lib/python3.7/dist-packages (from textacy) (1.21.5)\n",
            "Requirement already satisfied: spacy>=3.0.0 in /usr/local/lib/python3.7/dist-packages (from textacy) (3.2.3)\n",
            "Requirement already satisfied: joblib>=0.13.0 in /usr/local/lib/python3.7/dist-packages (from textacy) (1.1.0)\n",
            "Requirement already satisfied: cachetools>=4.0.0 in /usr/local/lib/python3.7/dist-packages (from textacy) (4.2.4)\n",
            "Collecting cytoolz>=0.10.1\n",
            "  Downloading cytoolz-0.11.2.tar.gz (481 kB)\n",
            "\u001b[K     |████████████████████████████████| 481 kB 62.9 MB/s \n",
            "\u001b[?25hRequirement already satisfied: toolz>=0.8.0 in /usr/local/lib/python3.7/dist-packages (from cytoolz>=0.10.1->textacy) (0.11.2)\n",
            "Requirement already satisfied: chardet<4,>=3.0.2 in /usr/local/lib/python3.7/dist-packages (from requests>=2.10.0->textacy) (3.0.4)\n",
            "Requirement already satisfied: idna<3,>=2.5 in /usr/local/lib/python3.7/dist-packages (from requests>=2.10.0->textacy) (2.10)\n",
            "Requirement already satisfied: certifi>=2017.4.17 in /usr/local/lib/python3.7/dist-packages (from requests>=2.10.0->textacy) (2021.10.8)\n",
            "Requirement already satisfied: urllib3!=1.25.0,!=1.25.1,<1.26,>=1.21.1 in /usr/local/lib/python3.7/dist-packages (from requests>=2.10.0->textacy) (1.24.3)\n",
            "Requirement already satisfied: threadpoolctl>=2.0.0 in /usr/local/lib/python3.7/dist-packages (from scikit-learn>=0.19.0->textacy) (3.1.0)\n",
            "Requirement already satisfied: pathy>=0.3.5 in /usr/local/lib/python3.7/dist-packages (from spacy>=3.0.0->textacy) (0.6.1)\n",
            "Requirement already satisfied: pydantic!=1.8,!=1.8.1,<1.9.0,>=1.7.4 in /usr/local/lib/python3.7/dist-packages (from spacy>=3.0.0->textacy) (1.8.2)\n",
            "Requirement already satisfied: wasabi<1.1.0,>=0.8.1 in /usr/local/lib/python3.7/dist-packages (from spacy>=3.0.0->textacy) (0.9.0)\n",
            "Requirement already satisfied: langcodes<4.0.0,>=3.2.0 in /usr/local/lib/python3.7/dist-packages (from spacy>=3.0.0->textacy) (3.3.0)\n",
            "Requirement already satisfied: catalogue<2.1.0,>=2.0.6 in /usr/local/lib/python3.7/dist-packages (from spacy>=3.0.0->textacy) (2.0.6)\n",
            "Requirement already satisfied: typer<0.5.0,>=0.3.0 in /usr/local/lib/python3.7/dist-packages (from spacy>=3.0.0->textacy) (0.4.0)\n",
            "Requirement already satisfied: jinja2 in /usr/local/lib/python3.7/dist-packages (from spacy>=3.0.0->textacy) (2.11.3)\n",
            "Requirement already satisfied: murmurhash<1.1.0,>=0.28.0 in /usr/local/lib/python3.7/dist-packages (from spacy>=3.0.0->textacy) (1.0.6)\n",
            "Requirement already satisfied: typing-extensions<4.0.0.0,>=3.7.4 in /usr/local/lib/python3.7/dist-packages (from spacy>=3.0.0->textacy) (3.10.0.2)\n",
            "Requirement already satisfied: blis<0.8.0,>=0.4.0 in /usr/local/lib/python3.7/dist-packages (from spacy>=3.0.0->textacy) (0.4.1)\n",
            "Requirement already satisfied: spacy-loggers<2.0.0,>=1.0.0 in /usr/local/lib/python3.7/dist-packages (from spacy>=3.0.0->textacy) (1.0.1)\n",
            "Requirement already satisfied: packaging>=20.0 in /usr/local/lib/python3.7/dist-packages (from spacy>=3.0.0->textacy) (21.3)\n",
            "Requirement already satisfied: setuptools in /usr/local/lib/python3.7/dist-packages (from spacy>=3.0.0->textacy) (57.4.0)\n",
            "Requirement already satisfied: srsly<3.0.0,>=2.4.1 in /usr/local/lib/python3.7/dist-packages (from spacy>=3.0.0->textacy) (2.4.2)\n",
            "Requirement already satisfied: spacy-legacy<3.1.0,>=3.0.8 in /usr/local/lib/python3.7/dist-packages (from spacy>=3.0.0->textacy) (3.0.9)\n",
            "Requirement already satisfied: cymem<2.1.0,>=2.0.2 in /usr/local/lib/python3.7/dist-packages (from spacy>=3.0.0->textacy) (2.0.6)\n",
            "Requirement already satisfied: thinc<8.1.0,>=8.0.12 in /usr/local/lib/python3.7/dist-packages (from spacy>=3.0.0->textacy) (8.0.14)\n",
            "Requirement already satisfied: preshed<3.1.0,>=3.0.2 in /usr/local/lib/python3.7/dist-packages (from spacy>=3.0.0->textacy) (3.0.6)\n",
            "Requirement already satisfied: zipp>=0.5 in /usr/local/lib/python3.7/dist-packages (from catalogue<2.1.0,>=2.0.6->spacy>=3.0.0->textacy) (3.7.0)\n",
            "Requirement already satisfied: pyparsing!=3.0.5,>=2.0.2 in /usr/local/lib/python3.7/dist-packages (from packaging>=20.0->spacy>=3.0.0->textacy) (3.0.7)\n",
            "Requirement already satisfied: smart-open<6.0.0,>=5.0.0 in /usr/local/lib/python3.7/dist-packages (from pathy>=0.3.5->spacy>=3.0.0->textacy) (5.2.1)\n",
            "Requirement already satisfied: click<9.0.0,>=7.1.1 in /usr/local/lib/python3.7/dist-packages (from typer<0.5.0,>=0.3.0->spacy>=3.0.0->textacy) (7.1.2)\n",
            "Requirement already satisfied: MarkupSafe>=0.23 in /usr/local/lib/python3.7/dist-packages (from jinja2->spacy>=3.0.0->textacy) (2.0.1)\n",
            "Building wheels for collected packages: cytoolz, jellyfish\n",
            "  Building wheel for cytoolz (setup.py) ... \u001b[?25l\u001b[?25hdone\n",
            "  Created wheel for cytoolz: filename=cytoolz-0.11.2-cp37-cp37m-linux_x86_64.whl size=1230852 sha256=06ad899eea93d350feae045aa859bf82a122095317c91f4bfab58c7a34402c31\n",
            "  Stored in directory: /root/.cache/pip/wheels/38/70/71/ca13ea3d36ccd0b3d0ec7d7a4ca67522048d695b556bba4f59\n",
            "  Building wheel for jellyfish (setup.py) ... \u001b[?25l\u001b[?25hdone\n",
            "  Created wheel for jellyfish: filename=jellyfish-0.9.0-cp37-cp37m-linux_x86_64.whl size=73989 sha256=549774ac683442e1aeac41d57bec811c4be4d5900f2b2a2aacbb4a63a1878517\n",
            "  Stored in directory: /root/.cache/pip/wheels/fe/99/4e/646ce766df0d070b0ef04db27aa11543e2767fda3075aec31b\n",
            "Successfully built cytoolz jellyfish\n",
            "Installing collected packages: pyphen, jellyfish, cytoolz, textacy\n",
            "Successfully installed cytoolz-0.11.2 jellyfish-0.9.0 pyphen-0.12.0 textacy-0.11.0\n",
            "Requirement already satisfied: wordcloud in /usr/local/lib/python3.7/dist-packages (1.5.0)\n",
            "Requirement already satisfied: numpy>=1.6.1 in /usr/local/lib/python3.7/dist-packages (from wordcloud) (1.21.5)\n",
            "Requirement already satisfied: pillow in /usr/local/lib/python3.7/dist-packages (from wordcloud) (7.1.2)\n",
            "Collecting emoji\n",
            "  Downloading emoji-1.7.0.tar.gz (175 kB)\n",
            "\u001b[K     |████████████████████████████████| 175 kB 2.8 MB/s \n",
            "\u001b[?25hBuilding wheels for collected packages: emoji\n",
            "  Building wheel for emoji (setup.py) ... \u001b[?25l\u001b[?25hdone\n",
            "  Created wheel for emoji: filename=emoji-1.7.0-py3-none-any.whl size=171046 sha256=0c5c24f9b1aa8ca878a784eae41c3fcb5db2c6b6473be0f497d587c35b2a4520\n",
            "  Stored in directory: /root/.cache/pip/wheels/8a/4e/b6/57b01db010d17ef6ea9b40300af725ef3e210cb1acfb7ac8b6\n",
            "Successfully built emoji\n",
            "Installing collected packages: emoji\n",
            "Successfully installed emoji-1.7.0\n",
            "Requirement already satisfied: nltk in /usr/local/lib/python3.7/dist-packages (3.2.5)\n",
            "Requirement already satisfied: six in /usr/local/lib/python3.7/dist-packages (from nltk) (1.15.0)\n",
            "Requirement already satisfied: scikit-plot in /usr/local/lib/python3.7/dist-packages (0.3.7)\n",
            "Requirement already satisfied: scikit-learn>=0.18 in /usr/local/lib/python3.7/dist-packages (from scikit-plot) (1.0.2)\n",
            "Requirement already satisfied: joblib>=0.10 in /usr/local/lib/python3.7/dist-packages (from scikit-plot) (1.1.0)\n",
            "Requirement already satisfied: matplotlib>=1.4.0 in /usr/local/lib/python3.7/dist-packages (from scikit-plot) (3.2.2)\n",
            "Requirement already satisfied: scipy>=0.9 in /usr/local/lib/python3.7/dist-packages (from scikit-plot) (1.4.1)\n",
            "Requirement already satisfied: cycler>=0.10 in /usr/local/lib/python3.7/dist-packages (from matplotlib>=1.4.0->scikit-plot) (0.11.0)\n",
            "Requirement already satisfied: pyparsing!=2.0.4,!=2.1.2,!=2.1.6,>=2.0.1 in /usr/local/lib/python3.7/dist-packages (from matplotlib>=1.4.0->scikit-plot) (3.0.7)\n",
            "Requirement already satisfied: python-dateutil>=2.1 in /usr/local/lib/python3.7/dist-packages (from matplotlib>=1.4.0->scikit-plot) (2.8.2)\n",
            "Requirement already satisfied: numpy>=1.11 in /usr/local/lib/python3.7/dist-packages (from matplotlib>=1.4.0->scikit-plot) (1.21.5)\n",
            "Requirement already satisfied: kiwisolver>=1.0.1 in /usr/local/lib/python3.7/dist-packages (from matplotlib>=1.4.0->scikit-plot) (1.3.2)\n",
            "Requirement already satisfied: six>=1.5 in /usr/local/lib/python3.7/dist-packages (from python-dateutil>=2.1->matplotlib>=1.4.0->scikit-plot) (1.15.0)\n",
            "Requirement already satisfied: threadpoolctl>=2.0.0 in /usr/local/lib/python3.7/dist-packages (from scikit-learn>=0.18->scikit-plot) (3.1.0)\n",
            "Collecting spacytextblob\n",
            "  Downloading spacytextblob-4.0.0-py3-none-any.whl (4.5 kB)\n",
            "Requirement already satisfied: textblob<0.16.0,>=0.15.3 in /usr/local/lib/python3.7/dist-packages (from spacytextblob) (0.15.3)\n",
            "Requirement already satisfied: spacy<4.0,>=3.0 in /usr/local/lib/python3.7/dist-packages (from spacytextblob) (3.2.3)\n",
            "Requirement already satisfied: langcodes<4.0.0,>=3.2.0 in /usr/local/lib/python3.7/dist-packages (from spacy<4.0,>=3.0->spacytextblob) (3.3.0)\n",
            "Requirement already satisfied: preshed<3.1.0,>=3.0.2 in /usr/local/lib/python3.7/dist-packages (from spacy<4.0,>=3.0->spacytextblob) (3.0.6)\n",
            "Requirement already satisfied: thinc<8.1.0,>=8.0.12 in /usr/local/lib/python3.7/dist-packages (from spacy<4.0,>=3.0->spacytextblob) (8.0.14)\n",
            "Requirement already satisfied: spacy-loggers<2.0.0,>=1.0.0 in /usr/local/lib/python3.7/dist-packages (from spacy<4.0,>=3.0->spacytextblob) (1.0.1)\n",
            "Requirement already satisfied: blis<0.8.0,>=0.4.0 in /usr/local/lib/python3.7/dist-packages (from spacy<4.0,>=3.0->spacytextblob) (0.4.1)\n",
            "Requirement already satisfied: packaging>=20.0 in /usr/local/lib/python3.7/dist-packages (from spacy<4.0,>=3.0->spacytextblob) (21.3)\n",
            "Requirement already satisfied: pathy>=0.3.5 in /usr/local/lib/python3.7/dist-packages (from spacy<4.0,>=3.0->spacytextblob) (0.6.1)\n",
            "Requirement already satisfied: tqdm<5.0.0,>=4.38.0 in /usr/local/lib/python3.7/dist-packages (from spacy<4.0,>=3.0->spacytextblob) (4.63.0)\n",
            "Requirement already satisfied: pydantic!=1.8,!=1.8.1,<1.9.0,>=1.7.4 in /usr/local/lib/python3.7/dist-packages (from spacy<4.0,>=3.0->spacytextblob) (1.8.2)\n",
            "Requirement already satisfied: catalogue<2.1.0,>=2.0.6 in /usr/local/lib/python3.7/dist-packages (from spacy<4.0,>=3.0->spacytextblob) (2.0.6)\n",
            "Requirement already satisfied: murmurhash<1.1.0,>=0.28.0 in /usr/local/lib/python3.7/dist-packages (from spacy<4.0,>=3.0->spacytextblob) (1.0.6)\n",
            "Requirement already satisfied: srsly<3.0.0,>=2.4.1 in /usr/local/lib/python3.7/dist-packages (from spacy<4.0,>=3.0->spacytextblob) (2.4.2)\n",
            "Requirement already satisfied: cymem<2.1.0,>=2.0.2 in /usr/local/lib/python3.7/dist-packages (from spacy<4.0,>=3.0->spacytextblob) (2.0.6)\n",
            "Requirement already satisfied: jinja2 in /usr/local/lib/python3.7/dist-packages (from spacy<4.0,>=3.0->spacytextblob) (2.11.3)\n",
            "Requirement already satisfied: requests<3.0.0,>=2.13.0 in /usr/local/lib/python3.7/dist-packages (from spacy<4.0,>=3.0->spacytextblob) (2.23.0)\n",
            "Requirement already satisfied: setuptools in /usr/local/lib/python3.7/dist-packages (from spacy<4.0,>=3.0->spacytextblob) (57.4.0)\n",
            "Requirement already satisfied: typer<0.5.0,>=0.3.0 in /usr/local/lib/python3.7/dist-packages (from spacy<4.0,>=3.0->spacytextblob) (0.4.0)\n",
            "Requirement already satisfied: wasabi<1.1.0,>=0.8.1 in /usr/local/lib/python3.7/dist-packages (from spacy<4.0,>=3.0->spacytextblob) (0.9.0)\n",
            "Requirement already satisfied: numpy>=1.15.0 in /usr/local/lib/python3.7/dist-packages (from spacy<4.0,>=3.0->spacytextblob) (1.21.5)\n",
            "Requirement already satisfied: spacy-legacy<3.1.0,>=3.0.8 in /usr/local/lib/python3.7/dist-packages (from spacy<4.0,>=3.0->spacytextblob) (3.0.9)\n",
            "Requirement already satisfied: typing-extensions<4.0.0.0,>=3.7.4 in /usr/local/lib/python3.7/dist-packages (from spacy<4.0,>=3.0->spacytextblob) (3.10.0.2)\n",
            "Requirement already satisfied: zipp>=0.5 in /usr/local/lib/python3.7/dist-packages (from catalogue<2.1.0,>=2.0.6->spacy<4.0,>=3.0->spacytextblob) (3.7.0)\n",
            "Requirement already satisfied: pyparsing!=3.0.5,>=2.0.2 in /usr/local/lib/python3.7/dist-packages (from packaging>=20.0->spacy<4.0,>=3.0->spacytextblob) (3.0.7)\n",
            "Requirement already satisfied: smart-open<6.0.0,>=5.0.0 in /usr/local/lib/python3.7/dist-packages (from pathy>=0.3.5->spacy<4.0,>=3.0->spacytextblob) (5.2.1)\n",
            "Requirement already satisfied: certifi>=2017.4.17 in /usr/local/lib/python3.7/dist-packages (from requests<3.0.0,>=2.13.0->spacy<4.0,>=3.0->spacytextblob) (2021.10.8)\n",
            "Requirement already satisfied: idna<3,>=2.5 in /usr/local/lib/python3.7/dist-packages (from requests<3.0.0,>=2.13.0->spacy<4.0,>=3.0->spacytextblob) (2.10)\n",
            "Requirement already satisfied: urllib3!=1.25.0,!=1.25.1,<1.26,>=1.21.1 in /usr/local/lib/python3.7/dist-packages (from requests<3.0.0,>=2.13.0->spacy<4.0,>=3.0->spacytextblob) (1.24.3)\n",
            "Requirement already satisfied: chardet<4,>=3.0.2 in /usr/local/lib/python3.7/dist-packages (from requests<3.0.0,>=2.13.0->spacy<4.0,>=3.0->spacytextblob) (3.0.4)\n",
            "Requirement already satisfied: nltk>=3.1 in /usr/local/lib/python3.7/dist-packages (from textblob<0.16.0,>=0.15.3->spacytextblob) (3.2.5)\n",
            "Requirement already satisfied: six in /usr/local/lib/python3.7/dist-packages (from nltk>=3.1->textblob<0.16.0,>=0.15.3->spacytextblob) (1.15.0)\n",
            "Requirement already satisfied: click<9.0.0,>=7.1.1 in /usr/local/lib/python3.7/dist-packages (from typer<0.5.0,>=0.3.0->spacy<4.0,>=3.0->spacytextblob) (7.1.2)\n",
            "Requirement already satisfied: MarkupSafe>=0.23 in /usr/local/lib/python3.7/dist-packages (from jinja2->spacy<4.0,>=3.0->spacytextblob) (2.0.1)\n",
            "Installing collected packages: spacytextblob\n",
            "Successfully installed spacytextblob-4.0.0\n",
            "Collecting afinn\n",
            "  Downloading afinn-0.1.tar.gz (52 kB)\n",
            "\u001b[K     |████████████████████████████████| 52 kB 840 kB/s \n",
            "\u001b[?25hBuilding wheels for collected packages: afinn\n",
            "  Building wheel for afinn (setup.py) ... \u001b[?25l\u001b[?25hdone\n",
            "  Created wheel for afinn: filename=afinn-0.1-py3-none-any.whl size=53447 sha256=d686cc201d945225296f7e413d326dbc7bf1ecc1f9863434d1a455ce4bdfaf1b\n",
            "  Stored in directory: /root/.cache/pip/wheels/9d/16/3a/9f0953027434eab5dadf3f33ab3298fa95afa8292fcf7aba75\n",
            "Successfully built afinn\n",
            "Installing collected packages: afinn\n",
            "Successfully installed afinn-0.1\n",
            "Collecting pysrt\n",
            "  Downloading pysrt-1.1.2.tar.gz (104 kB)\n",
            "\u001b[K     |████████████████████████████████| 104 kB 4.1 MB/s \n",
            "\u001b[?25hRequirement already satisfied: chardet in /usr/local/lib/python3.7/dist-packages (from pysrt) (3.0.4)\n",
            "Building wheels for collected packages: pysrt\n",
            "  Building wheel for pysrt (setup.py) ... \u001b[?25l\u001b[?25hdone\n",
            "  Created wheel for pysrt: filename=pysrt-1.1.2-py3-none-any.whl size=13444 sha256=3a1d3f00b2b4ef7558e18d36c1f40970e65bee90eaa83d131d93e7d161d05158\n",
            "  Stored in directory: /root/.cache/pip/wheels/b2/f8/e8/a26be4111ab5ec931e845777e574d1483b4adddc50d3e591a6\n",
            "Successfully built pysrt\n",
            "Installing collected packages: pysrt\n",
            "Successfully installed pysrt-1.1.2\n",
            "Collecting textdescriptives\n",
            "  Downloading textdescriptives-1.0.6-py3-none-any.whl (35 kB)\n",
            "Requirement already satisfied: spacy>=3.0.3 in /usr/local/lib/python3.7/dist-packages (from textdescriptives) (3.2.3)\n",
            "Requirement already satisfied: pyphen>=0.11.0 in /usr/local/lib/python3.7/dist-packages (from textdescriptives) (0.12.0)\n",
            "Requirement already satisfied: pandas>=1.0.0 in /usr/local/lib/python3.7/dist-packages (from textdescriptives) (1.3.5)\n",
            "Requirement already satisfied: numpy>=1.20.0 in /usr/local/lib/python3.7/dist-packages (from textdescriptives) (1.21.5)\n",
            "Requirement already satisfied: pytz>=2017.3 in /usr/local/lib/python3.7/dist-packages (from pandas>=1.0.0->textdescriptives) (2018.9)\n",
            "Requirement already satisfied: python-dateutil>=2.7.3 in /usr/local/lib/python3.7/dist-packages (from pandas>=1.0.0->textdescriptives) (2.8.2)\n",
            "Requirement already satisfied: six>=1.5 in /usr/local/lib/python3.7/dist-packages (from python-dateutil>=2.7.3->pandas>=1.0.0->textdescriptives) (1.15.0)\n",
            "Requirement already satisfied: preshed<3.1.0,>=3.0.2 in /usr/local/lib/python3.7/dist-packages (from spacy>=3.0.3->textdescriptives) (3.0.6)\n",
            "Requirement already satisfied: jinja2 in /usr/local/lib/python3.7/dist-packages (from spacy>=3.0.3->textdescriptives) (2.11.3)\n",
            "Requirement already satisfied: packaging>=20.0 in /usr/local/lib/python3.7/dist-packages (from spacy>=3.0.3->textdescriptives) (21.3)\n",
            "Requirement already satisfied: srsly<3.0.0,>=2.4.1 in /usr/local/lib/python3.7/dist-packages (from spacy>=3.0.3->textdescriptives) (2.4.2)\n",
            "Requirement already satisfied: catalogue<2.1.0,>=2.0.6 in /usr/local/lib/python3.7/dist-packages (from spacy>=3.0.3->textdescriptives) (2.0.6)\n",
            "Requirement already satisfied: setuptools in /usr/local/lib/python3.7/dist-packages (from spacy>=3.0.3->textdescriptives) (57.4.0)\n",
            "Requirement already satisfied: cymem<2.1.0,>=2.0.2 in /usr/local/lib/python3.7/dist-packages (from spacy>=3.0.3->textdescriptives) (2.0.6)\n",
            "Requirement already satisfied: langcodes<4.0.0,>=3.2.0 in /usr/local/lib/python3.7/dist-packages (from spacy>=3.0.3->textdescriptives) (3.3.0)\n",
            "Requirement already satisfied: murmurhash<1.1.0,>=0.28.0 in /usr/local/lib/python3.7/dist-packages (from spacy>=3.0.3->textdescriptives) (1.0.6)\n",
            "Requirement already satisfied: thinc<8.1.0,>=8.0.12 in /usr/local/lib/python3.7/dist-packages (from spacy>=3.0.3->textdescriptives) (8.0.14)\n",
            "Requirement already satisfied: pydantic!=1.8,!=1.8.1,<1.9.0,>=1.7.4 in /usr/local/lib/python3.7/dist-packages (from spacy>=3.0.3->textdescriptives) (1.8.2)\n",
            "Requirement already satisfied: tqdm<5.0.0,>=4.38.0 in /usr/local/lib/python3.7/dist-packages (from spacy>=3.0.3->textdescriptives) (4.63.0)\n",
            "Requirement already satisfied: typer<0.5.0,>=0.3.0 in /usr/local/lib/python3.7/dist-packages (from spacy>=3.0.3->textdescriptives) (0.4.0)\n",
            "Requirement already satisfied: typing-extensions<4.0.0.0,>=3.7.4 in /usr/local/lib/python3.7/dist-packages (from spacy>=3.0.3->textdescriptives) (3.10.0.2)\n",
            "Requirement already satisfied: blis<0.8.0,>=0.4.0 in /usr/local/lib/python3.7/dist-packages (from spacy>=3.0.3->textdescriptives) (0.4.1)\n",
            "Requirement already satisfied: pathy>=0.3.5 in /usr/local/lib/python3.7/dist-packages (from spacy>=3.0.3->textdescriptives) (0.6.1)\n",
            "Requirement already satisfied: wasabi<1.1.0,>=0.8.1 in /usr/local/lib/python3.7/dist-packages (from spacy>=3.0.3->textdescriptives) (0.9.0)\n",
            "Requirement already satisfied: requests<3.0.0,>=2.13.0 in /usr/local/lib/python3.7/dist-packages (from spacy>=3.0.3->textdescriptives) (2.23.0)\n",
            "Requirement already satisfied: spacy-loggers<2.0.0,>=1.0.0 in /usr/local/lib/python3.7/dist-packages (from spacy>=3.0.3->textdescriptives) (1.0.1)\n",
            "Requirement already satisfied: spacy-legacy<3.1.0,>=3.0.8 in /usr/local/lib/python3.7/dist-packages (from spacy>=3.0.3->textdescriptives) (3.0.9)\n",
            "Requirement already satisfied: zipp>=0.5 in /usr/local/lib/python3.7/dist-packages (from catalogue<2.1.0,>=2.0.6->spacy>=3.0.3->textdescriptives) (3.7.0)\n",
            "Requirement already satisfied: pyparsing!=3.0.5,>=2.0.2 in /usr/local/lib/python3.7/dist-packages (from packaging>=20.0->spacy>=3.0.3->textdescriptives) (3.0.7)\n",
            "Requirement already satisfied: smart-open<6.0.0,>=5.0.0 in /usr/local/lib/python3.7/dist-packages (from pathy>=0.3.5->spacy>=3.0.3->textdescriptives) (5.2.1)\n",
            "Requirement already satisfied: chardet<4,>=3.0.2 in /usr/local/lib/python3.7/dist-packages (from requests<3.0.0,>=2.13.0->spacy>=3.0.3->textdescriptives) (3.0.4)\n",
            "Requirement already satisfied: idna<3,>=2.5 in /usr/local/lib/python3.7/dist-packages (from requests<3.0.0,>=2.13.0->spacy>=3.0.3->textdescriptives) (2.10)\n",
            "Requirement already satisfied: urllib3!=1.25.0,!=1.25.1,<1.26,>=1.21.1 in /usr/local/lib/python3.7/dist-packages (from requests<3.0.0,>=2.13.0->spacy>=3.0.3->textdescriptives) (1.24.3)\n",
            "Requirement already satisfied: certifi>=2017.4.17 in /usr/local/lib/python3.7/dist-packages (from requests<3.0.0,>=2.13.0->spacy>=3.0.3->textdescriptives) (2021.10.8)\n",
            "Requirement already satisfied: click<9.0.0,>=7.1.1 in /usr/local/lib/python3.7/dist-packages (from typer<0.5.0,>=0.3.0->spacy>=3.0.3->textdescriptives) (7.1.2)\n",
            "Requirement already satisfied: MarkupSafe>=0.23 in /usr/local/lib/python3.7/dist-packages (from jinja2->spacy>=3.0.3->textdescriptives) (2.0.1)\n",
            "Installing collected packages: textdescriptives\n",
            "Successfully installed textdescriptives-1.0.6\n",
            "Collecting tokenwiser\n",
            "  Downloading tokenwiser-0.1.7-py2.py3-none-any.whl (30 kB)\n",
            "Requirement already satisfied: jellyfish>=0.8.2 in /usr/local/lib/python3.7/dist-packages (from tokenwiser) (0.9.0)\n",
            "Collecting sentencepiece>=0.1.95\n",
            "  Downloading sentencepiece-0.1.96-cp37-cp37m-manylinux_2_17_x86_64.manylinux2014_x86_64.whl (1.2 MB)\n",
            "\u001b[K     |████████████████████████████████| 1.2 MB 5.3 MB/s \n",
            "\u001b[?25hRequirement already satisfied: Pyphen>=0.10.0 in /usr/local/lib/python3.7/dist-packages (from tokenwiser) (0.12.0)\n",
            "Requirement already satisfied: scikit-learn>=0.24.0 in /usr/local/lib/python3.7/dist-packages (from tokenwiser) (1.0.2)\n",
            "Requirement already satisfied: snowballstemmer>=2.1.0 in /usr/local/lib/python3.7/dist-packages (from tokenwiser) (2.2.0)\n",
            "Collecting vowpalwabbit>=8.9.0\n",
            "  Downloading vowpalwabbit-9.0.1-cp37-cp37m-manylinux_2_12_x86_64.manylinux2010_x86_64.whl (3.0 MB)\n",
            "\u001b[K     |████████████████████████████████| 3.0 MB 36.7 MB/s \n",
            "\u001b[?25hCollecting PyYAML>=5.3.1\n",
            "  Downloading PyYAML-6.0-cp37-cp37m-manylinux_2_5_x86_64.manylinux1_x86_64.manylinux_2_12_x86_64.manylinux2010_x86_64.whl (596 kB)\n",
            "\u001b[K     |████████████████████████████████| 596 kB 55.0 MB/s \n",
            "\u001b[?25hCollecting yake-github>=0.4.0\n",
            "  Downloading yake-github-0.4.0.tar.gz (390 kB)\n",
            "\u001b[K     |████████████████████████████████| 390 kB 48.9 MB/s \n",
            "\u001b[?25hRequirement already satisfied: spacy>=3.1.0 in /usr/local/lib/python3.7/dist-packages (from tokenwiser) (3.2.3)\n",
            "Requirement already satisfied: scipy>=1.1.0 in /usr/local/lib/python3.7/dist-packages (from scikit-learn>=0.24.0->tokenwiser) (1.4.1)\n",
            "Requirement already satisfied: threadpoolctl>=2.0.0 in /usr/local/lib/python3.7/dist-packages (from scikit-learn>=0.24.0->tokenwiser) (3.1.0)\n",
            "Requirement already satisfied: numpy>=1.14.6 in /usr/local/lib/python3.7/dist-packages (from scikit-learn>=0.24.0->tokenwiser) (1.21.5)\n",
            "Requirement already satisfied: joblib>=0.11 in /usr/local/lib/python3.7/dist-packages (from scikit-learn>=0.24.0->tokenwiser) (1.1.0)\n",
            "Requirement already satisfied: tqdm<5.0.0,>=4.38.0 in /usr/local/lib/python3.7/dist-packages (from spacy>=3.1.0->tokenwiser) (4.63.0)\n",
            "Requirement already satisfied: pathy>=0.3.5 in /usr/local/lib/python3.7/dist-packages (from spacy>=3.1.0->tokenwiser) (0.6.1)\n",
            "Requirement already satisfied: pydantic!=1.8,!=1.8.1,<1.9.0,>=1.7.4 in /usr/local/lib/python3.7/dist-packages (from spacy>=3.1.0->tokenwiser) (1.8.2)\n",
            "Requirement already satisfied: blis<0.8.0,>=0.4.0 in /usr/local/lib/python3.7/dist-packages (from spacy>=3.1.0->tokenwiser) (0.4.1)\n",
            "Requirement already satisfied: spacy-legacy<3.1.0,>=3.0.8 in /usr/local/lib/python3.7/dist-packages (from spacy>=3.1.0->tokenwiser) (3.0.9)\n",
            "Requirement already satisfied: catalogue<2.1.0,>=2.0.6 in /usr/local/lib/python3.7/dist-packages (from spacy>=3.1.0->tokenwiser) (2.0.6)\n",
            "Requirement already satisfied: typer<0.5.0,>=0.3.0 in /usr/local/lib/python3.7/dist-packages (from spacy>=3.1.0->tokenwiser) (0.4.0)\n",
            "Requirement already satisfied: langcodes<4.0.0,>=3.2.0 in /usr/local/lib/python3.7/dist-packages (from spacy>=3.1.0->tokenwiser) (3.3.0)\n",
            "Requirement already satisfied: thinc<8.1.0,>=8.0.12 in /usr/local/lib/python3.7/dist-packages (from spacy>=3.1.0->tokenwiser) (8.0.14)\n",
            "Requirement already satisfied: setuptools in /usr/local/lib/python3.7/dist-packages (from spacy>=3.1.0->tokenwiser) (57.4.0)\n",
            "Requirement already satisfied: packaging>=20.0 in /usr/local/lib/python3.7/dist-packages (from spacy>=3.1.0->tokenwiser) (21.3)\n",
            "Requirement already satisfied: typing-extensions<4.0.0.0,>=3.7.4 in /usr/local/lib/python3.7/dist-packages (from spacy>=3.1.0->tokenwiser) (3.10.0.2)\n",
            "Requirement already satisfied: srsly<3.0.0,>=2.4.1 in /usr/local/lib/python3.7/dist-packages (from spacy>=3.1.0->tokenwiser) (2.4.2)\n",
            "Requirement already satisfied: requests<3.0.0,>=2.13.0 in /usr/local/lib/python3.7/dist-packages (from spacy>=3.1.0->tokenwiser) (2.23.0)\n",
            "Requirement already satisfied: cymem<2.1.0,>=2.0.2 in /usr/local/lib/python3.7/dist-packages (from spacy>=3.1.0->tokenwiser) (2.0.6)\n",
            "Requirement already satisfied: spacy-loggers<2.0.0,>=1.0.0 in /usr/local/lib/python3.7/dist-packages (from spacy>=3.1.0->tokenwiser) (1.0.1)\n",
            "Requirement already satisfied: jinja2 in /usr/local/lib/python3.7/dist-packages (from spacy>=3.1.0->tokenwiser) (2.11.3)\n",
            "Requirement already satisfied: preshed<3.1.0,>=3.0.2 in /usr/local/lib/python3.7/dist-packages (from spacy>=3.1.0->tokenwiser) (3.0.6)\n",
            "Requirement already satisfied: wasabi<1.1.0,>=0.8.1 in /usr/local/lib/python3.7/dist-packages (from spacy>=3.1.0->tokenwiser) (0.9.0)\n",
            "Requirement already satisfied: murmurhash<1.1.0,>=0.28.0 in /usr/local/lib/python3.7/dist-packages (from spacy>=3.1.0->tokenwiser) (1.0.6)\n",
            "Requirement already satisfied: zipp>=0.5 in /usr/local/lib/python3.7/dist-packages (from catalogue<2.1.0,>=2.0.6->spacy>=3.1.0->tokenwiser) (3.7.0)\n",
            "Requirement already satisfied: pyparsing!=3.0.5,>=2.0.2 in /usr/local/lib/python3.7/dist-packages (from packaging>=20.0->spacy>=3.1.0->tokenwiser) (3.0.7)\n",
            "Requirement already satisfied: smart-open<6.0.0,>=5.0.0 in /usr/local/lib/python3.7/dist-packages (from pathy>=0.3.5->spacy>=3.1.0->tokenwiser) (5.2.1)\n",
            "Requirement already satisfied: urllib3!=1.25.0,!=1.25.1,<1.26,>=1.21.1 in /usr/local/lib/python3.7/dist-packages (from requests<3.0.0,>=2.13.0->spacy>=3.1.0->tokenwiser) (1.24.3)\n",
            "Requirement already satisfied: chardet<4,>=3.0.2 in /usr/local/lib/python3.7/dist-packages (from requests<3.0.0,>=2.13.0->spacy>=3.1.0->tokenwiser) (3.0.4)\n",
            "Requirement already satisfied: idna<3,>=2.5 in /usr/local/lib/python3.7/dist-packages (from requests<3.0.0,>=2.13.0->spacy>=3.1.0->tokenwiser) (2.10)\n",
            "Requirement already satisfied: certifi>=2017.4.17 in /usr/local/lib/python3.7/dist-packages (from requests<3.0.0,>=2.13.0->spacy>=3.1.0->tokenwiser) (2021.10.8)\n",
            "Requirement already satisfied: click<9.0.0,>=7.1.1 in /usr/local/lib/python3.7/dist-packages (from typer<0.5.0,>=0.3.0->spacy>=3.1.0->tokenwiser) (7.1.2)\n",
            "Requirement already satisfied: tabulate in /usr/local/lib/python3.7/dist-packages (from yake-github>=0.4.0->tokenwiser) (0.8.9)\n",
            "Collecting segtok\n",
            "  Downloading segtok-1.5.11-py3-none-any.whl (24 kB)\n",
            "Requirement already satisfied: networkx in /usr/local/lib/python3.7/dist-packages (from yake-github>=0.4.0->tokenwiser) (2.6.3)\n",
            "Requirement already satisfied: MarkupSafe>=0.23 in /usr/local/lib/python3.7/dist-packages (from jinja2->spacy>=3.1.0->tokenwiser) (2.0.1)\n",
            "Requirement already satisfied: regex in /usr/local/lib/python3.7/dist-packages (from segtok->yake-github>=0.4.0->tokenwiser) (2019.12.20)\n",
            "Building wheels for collected packages: yake-github\n",
            "  Building wheel for yake-github (setup.py) ... \u001b[?25l\u001b[?25hdone\n",
            "  Created wheel for yake-github: filename=yake_github-0.4.0-py2.py3-none-any.whl size=56625 sha256=392a9d1c02ad19b36416b53230305193b1035829fcc79b70c036736342445aab\n",
            "  Stored in directory: /root/.cache/pip/wheels/26/55/0e/edbca8d3acb7fd3b22149e8940c5d003ec8d2ee26671da6fdf\n",
            "Successfully built yake-github\n",
            "Installing collected packages: segtok, yake-github, vowpalwabbit, sentencepiece, PyYAML, tokenwiser\n",
            "  Attempting uninstall: PyYAML\n",
            "    Found existing installation: PyYAML 3.13\n",
            "    Uninstalling PyYAML-3.13:\n",
            "      Successfully uninstalled PyYAML-3.13\n",
            "Successfully installed PyYAML-6.0 segtok-1.5.11 sentencepiece-0.1.96 tokenwiser-0.1.7 vowpalwabbit-9.0.1 yake-github-0.4.0\n"
          ]
        }
      ],
      "source": [
        "! pip install mlxtend\n",
        "! pip install scikit-plot\n",
        "! pip install newspaper3k\n",
        "! pip install -U spacy\n",
        "! pip install -U textacy\n",
        "! pip install wordcloud\n",
        "! pip install emoji\n",
        "! pip install nltk\n",
        "! pip install scikit-plot\n",
        "! pip install spacytextblob\n",
        "! pip install afinn\n",
        "! pip install pysrt\n",
        "! pip install textdescriptives\n",
        "! pip install tokenwiser"
      ]
    },
    {
      "cell_type": "code",
      "execution_count": null,
      "metadata": {
        "colab": {
          "base_uri": "https://localhost:8080/"
        },
        "id": "Felf-hOqnB5Q",
        "outputId": "99a6269b-97ea-4fc1-d4b3-02a30e94e1f8"
      },
      "outputs": [
        {
          "output_type": "stream",
          "name": "stdout",
          "text": [
            "[nltk_data] Downloading package stopwords to /root/nltk_data...\n",
            "[nltk_data]   Unzipping corpora/stopwords.zip.\n",
            "[nltk_data] Downloading package stopwords to /root/nltk_data...\n",
            "[nltk_data]   Package stopwords is already up-to-date!\n",
            "[nltk_data] Downloading package punkt to /root/nltk_data...\n",
            "[nltk_data]   Unzipping tokenizers/punkt.zip.\n"
          ]
        }
      ],
      "source": [
        "# imports\n",
        "from sklearn.datasets import load_digits, fetch_openml\n",
        "from sklearn.model_selection import train_test_split\n",
        "import os\n",
        "import numpy as np\n",
        "from PIL import Image\n",
        "import uuid\n",
        "import pandas as pd\n",
        "import cv2   \n",
        "import random\n",
        "from scipy.cluster.hierarchy import linkage, dendrogram, fcluster\n",
        "from scipy.spatial.distance import pdist, squareform\n",
        "# sklearn does have some functionality too, but mostly a wrapper to scipy\n",
        "from sklearn.metrics import pairwise_distances \n",
        "from sklearn.preprocessing import StandardScaler\n",
        "from sklearn.cluster import KMeans, DBSCAN\n",
        "from sklearn.neighbors import NearestNeighbors\n",
        "from scipy.cluster.hierarchy import linkage, dendrogram\n",
        "from scipy.cluster.hierarchy import fcluster\n",
        "from sklearn import metrics \n",
        "from sklearn.datasets import make_blobs\n",
        "import scikitplot as skplt\n",
        "import seaborn as sns\n",
        "import matplotlib.pyplot as plt\n",
        "\n",
        "#Principal component analysis (PCA) for reducing the dimensionality of data\n",
        "from sklearn.decomposition import PCA\n",
        "from sklearn import metrics \n",
        "import scikitplot as skplt\n",
        "\n",
        "# color maps\n",
        "from matplotlib import cm\n",
        "\n",
        "# some \"fun\" packages\n",
        "from wordcloud import WordCloud\n",
        "import emoji\n",
        "import re\n",
        "\n",
        "# text imports\n",
        "import spacy\n",
        "from spacytextblob.spacytextblob import SpacyTextBlob\n",
        "from sklearn.feature_extraction.text import CountVectorizer, TfidfTransformer,TfidfVectorizer  \n",
        "import nltk\n",
        "from nltk.corpus import stopwords\n",
        "nltk.download('stopwords')\n",
        "import json\n",
        "\n",
        "# text imports\n",
        "from spacy import cli\n",
        "import textdescriptives as td\n",
        "import tokenwiser\n",
        "from sklearn.linear_model import LogisticRegression\n",
        "from sklearn.tree import DecisionTreeClassifier\n",
        "from sklearn.pipeline import Pipeline\n",
        "import nltk\n",
        "from nltk.corpus import stopwords\n",
        "nltk.download('stopwords')\n",
        "nltk.download('punkt')\n",
        "import gensim\n",
        "from afinn import Afinn\n",
        "from newspaper import Article\n",
        "import warnings\n",
        "warnings.filterwarnings(\"ignore\")\n",
        "\n",
        "# for distance and h-clustering\n",
        "from scipy.cluster.hierarchy import linkage, dendrogram, fcluster\n",
        "from scipy.spatial.distance import pdist, squareform\n",
        "\n",
        "#for k-means\n",
        "from sklearn.preprocessing import StandardScaler\n",
        "from sklearn.cluster import KMeans\n",
        "from sklearn.neighbors import NearestNeighbors\n",
        "from sklearn.metrics import silhouette_samples, silhouette_score\n",
        "\n",
        "# for keras\n",
        "from tensorflow.keras import utils"
      ]
    },
    {
      "cell_type": "code",
      "execution_count": null,
      "metadata": {
        "id": "vUXGClvhnNdx",
        "colab": {
          "base_uri": "https://localhost:8080/",
          "height": 513
        },
        "outputId": "cae79e55-2715-47d4-cb12-6232205dc26b"
      },
      "outputs": [
        {
          "output_type": "execute_result",
          "data": {
            "text/plain": [
              "       job_id                                     title  \\\n",
              "15500   15502                                Care Giver   \n",
              "9573     9575                    English Teacher Abroad   \n",
              "14087   14089  Factory Integration Software Team Leader   \n",
              "15694   15696                 Quality Assurance Manager   \n",
              "13881   13883                  Digital Marketing Intern   \n",
              "\n",
              "                    location department salary_range  \\\n",
              "15500       GB, LAN, Preston        NaN          NaN   \n",
              "9573   US, WI, Stevens Point        NaN          NaN   \n",
              "14087                 NL, ,         NaN          NaN   \n",
              "15694    US, CA, Los Angeles        NaN          NaN   \n",
              "13881        US, AZ, Phoenix  Marketing          NaN   \n",
              "\n",
              "                                         company_profile  \\\n",
              "15500                                                NaN   \n",
              "9573   We help teachers get safe &amp; secure jobs ab...   \n",
              "14087  ClarusApex is an international recruiting comp...   \n",
              "15694  We Provide Full Time Permanent Positions for m...   \n",
              "13881  Yazamo is a rapidly growing digital lifecycle ...   \n",
              "\n",
              "                                             description  \\\n",
              "15500  CAREGiver Home Instead Senior Care provides hi...   \n",
              "9573   Play with kids, get paid for it Love travel? J...   \n",
              "14087  Is software development your passion and would...   \n",
              "15694  (We have more than 1500+ Job openings in our w...   \n",
              "13881  Attention: This is an unpaid Internship positi...   \n",
              "\n",
              "                                            requirements  \\\n",
              "15500                                                NaN   \n",
              "9573   University degree required. TEFL / TESOL / CEL...   \n",
              "14087  Requirements:MSc, PDEng or PhD in computer sci...   \n",
              "15694                                                NaN   \n",
              "13881  Content writing for blog and e-books.Study and...   \n",
              "\n",
              "                                                benefits  telecommuting  \\\n",
              "15500                                                NaN              0   \n",
              "9573                                 See job description              0   \n",
              "14087                                                NaN              0   \n",
              "15694                                                NaN              0   \n",
              "13881  Experience contributing to, implementing, and ...              0   \n",
              "\n",
              "       has_company_logo  has_questions employment_type required_experience  \\\n",
              "15500                 1              0       Part-time                 NaN   \n",
              "9573                  1              1        Contract                 NaN   \n",
              "14087                 1              0             NaN                 NaN   \n",
              "15694                 0              0       Full-time                 NaN   \n",
              "13881                 1              1       Part-time          Internship   \n",
              "\n",
              "      required_education                   industry              function  \\\n",
              "15500                NaN     Hospital & Health Care  Health Care Provider   \n",
              "9573   Bachelor's Degree       Education Management                   NaN   \n",
              "14087                NaN                        NaN                   NaN   \n",
              "15694                NaN                        NaN                   NaN   \n",
              "13881   Associate Degree  Marketing and Advertising             Marketing   \n",
              "\n",
              "       fraudulent  \n",
              "15500           0  \n",
              "9573            0  \n",
              "14087           0  \n",
              "15694           0  \n",
              "13881           0  "
            ],
            "text/html": [
              "\n",
              "  <div id=\"df-204c1e06-76bf-43a7-8903-e4d10c2ba913\">\n",
              "    <div class=\"colab-df-container\">\n",
              "      <div>\n",
              "<style scoped>\n",
              "    .dataframe tbody tr th:only-of-type {\n",
              "        vertical-align: middle;\n",
              "    }\n",
              "\n",
              "    .dataframe tbody tr th {\n",
              "        vertical-align: top;\n",
              "    }\n",
              "\n",
              "    .dataframe thead th {\n",
              "        text-align: right;\n",
              "    }\n",
              "</style>\n",
              "<table border=\"1\" class=\"dataframe\">\n",
              "  <thead>\n",
              "    <tr style=\"text-align: right;\">\n",
              "      <th></th>\n",
              "      <th>job_id</th>\n",
              "      <th>title</th>\n",
              "      <th>location</th>\n",
              "      <th>department</th>\n",
              "      <th>salary_range</th>\n",
              "      <th>company_profile</th>\n",
              "      <th>description</th>\n",
              "      <th>requirements</th>\n",
              "      <th>benefits</th>\n",
              "      <th>telecommuting</th>\n",
              "      <th>has_company_logo</th>\n",
              "      <th>has_questions</th>\n",
              "      <th>employment_type</th>\n",
              "      <th>required_experience</th>\n",
              "      <th>required_education</th>\n",
              "      <th>industry</th>\n",
              "      <th>function</th>\n",
              "      <th>fraudulent</th>\n",
              "    </tr>\n",
              "  </thead>\n",
              "  <tbody>\n",
              "    <tr>\n",
              "      <th>15500</th>\n",
              "      <td>15502</td>\n",
              "      <td>Care Giver</td>\n",
              "      <td>GB, LAN, Preston</td>\n",
              "      <td>NaN</td>\n",
              "      <td>NaN</td>\n",
              "      <td>NaN</td>\n",
              "      <td>CAREGiver Home Instead Senior Care provides hi...</td>\n",
              "      <td>NaN</td>\n",
              "      <td>NaN</td>\n",
              "      <td>0</td>\n",
              "      <td>1</td>\n",
              "      <td>0</td>\n",
              "      <td>Part-time</td>\n",
              "      <td>NaN</td>\n",
              "      <td>NaN</td>\n",
              "      <td>Hospital &amp; Health Care</td>\n",
              "      <td>Health Care Provider</td>\n",
              "      <td>0</td>\n",
              "    </tr>\n",
              "    <tr>\n",
              "      <th>9573</th>\n",
              "      <td>9575</td>\n",
              "      <td>English Teacher Abroad</td>\n",
              "      <td>US, WI, Stevens Point</td>\n",
              "      <td>NaN</td>\n",
              "      <td>NaN</td>\n",
              "      <td>We help teachers get safe &amp;amp; secure jobs ab...</td>\n",
              "      <td>Play with kids, get paid for it Love travel? J...</td>\n",
              "      <td>University degree required. TEFL / TESOL / CEL...</td>\n",
              "      <td>See job description</td>\n",
              "      <td>0</td>\n",
              "      <td>1</td>\n",
              "      <td>1</td>\n",
              "      <td>Contract</td>\n",
              "      <td>NaN</td>\n",
              "      <td>Bachelor's Degree</td>\n",
              "      <td>Education Management</td>\n",
              "      <td>NaN</td>\n",
              "      <td>0</td>\n",
              "    </tr>\n",
              "    <tr>\n",
              "      <th>14087</th>\n",
              "      <td>14089</td>\n",
              "      <td>Factory Integration Software Team Leader</td>\n",
              "      <td>NL, ,</td>\n",
              "      <td>NaN</td>\n",
              "      <td>NaN</td>\n",
              "      <td>ClarusApex is an international recruiting comp...</td>\n",
              "      <td>Is software development your passion and would...</td>\n",
              "      <td>Requirements:MSc, PDEng or PhD in computer sci...</td>\n",
              "      <td>NaN</td>\n",
              "      <td>0</td>\n",
              "      <td>1</td>\n",
              "      <td>0</td>\n",
              "      <td>NaN</td>\n",
              "      <td>NaN</td>\n",
              "      <td>NaN</td>\n",
              "      <td>NaN</td>\n",
              "      <td>NaN</td>\n",
              "      <td>0</td>\n",
              "    </tr>\n",
              "    <tr>\n",
              "      <th>15694</th>\n",
              "      <td>15696</td>\n",
              "      <td>Quality Assurance Manager</td>\n",
              "      <td>US, CA, Los Angeles</td>\n",
              "      <td>NaN</td>\n",
              "      <td>NaN</td>\n",
              "      <td>We Provide Full Time Permanent Positions for m...</td>\n",
              "      <td>(We have more than 1500+ Job openings in our w...</td>\n",
              "      <td>NaN</td>\n",
              "      <td>NaN</td>\n",
              "      <td>0</td>\n",
              "      <td>0</td>\n",
              "      <td>0</td>\n",
              "      <td>Full-time</td>\n",
              "      <td>NaN</td>\n",
              "      <td>NaN</td>\n",
              "      <td>NaN</td>\n",
              "      <td>NaN</td>\n",
              "      <td>0</td>\n",
              "    </tr>\n",
              "    <tr>\n",
              "      <th>13881</th>\n",
              "      <td>13883</td>\n",
              "      <td>Digital Marketing Intern</td>\n",
              "      <td>US, AZ, Phoenix</td>\n",
              "      <td>Marketing</td>\n",
              "      <td>NaN</td>\n",
              "      <td>Yazamo is a rapidly growing digital lifecycle ...</td>\n",
              "      <td>Attention: This is an unpaid Internship positi...</td>\n",
              "      <td>Content writing for blog and e-books.Study and...</td>\n",
              "      <td>Experience contributing to, implementing, and ...</td>\n",
              "      <td>0</td>\n",
              "      <td>1</td>\n",
              "      <td>1</td>\n",
              "      <td>Part-time</td>\n",
              "      <td>Internship</td>\n",
              "      <td>Associate Degree</td>\n",
              "      <td>Marketing and Advertising</td>\n",
              "      <td>Marketing</td>\n",
              "      <td>0</td>\n",
              "    </tr>\n",
              "  </tbody>\n",
              "</table>\n",
              "</div>\n",
              "      <button class=\"colab-df-convert\" onclick=\"convertToInteractive('df-204c1e06-76bf-43a7-8903-e4d10c2ba913')\"\n",
              "              title=\"Convert this dataframe to an interactive table.\"\n",
              "              style=\"display:none;\">\n",
              "        \n",
              "  <svg xmlns=\"http://www.w3.org/2000/svg\" height=\"24px\"viewBox=\"0 0 24 24\"\n",
              "       width=\"24px\">\n",
              "    <path d=\"M0 0h24v24H0V0z\" fill=\"none\"/>\n",
              "    <path d=\"M18.56 5.44l.94 2.06.94-2.06 2.06-.94-2.06-.94-.94-2.06-.94 2.06-2.06.94zm-11 1L8.5 8.5l.94-2.06 2.06-.94-2.06-.94L8.5 2.5l-.94 2.06-2.06.94zm10 10l.94 2.06.94-2.06 2.06-.94-2.06-.94-.94-2.06-.94 2.06-2.06.94z\"/><path d=\"M17.41 7.96l-1.37-1.37c-.4-.4-.92-.59-1.43-.59-.52 0-1.04.2-1.43.59L10.3 9.45l-7.72 7.72c-.78.78-.78 2.05 0 2.83L4 21.41c.39.39.9.59 1.41.59.51 0 1.02-.2 1.41-.59l7.78-7.78 2.81-2.81c.8-.78.8-2.07 0-2.86zM5.41 20L4 18.59l7.72-7.72 1.47 1.35L5.41 20z\"/>\n",
              "  </svg>\n",
              "      </button>\n",
              "      \n",
              "  <style>\n",
              "    .colab-df-container {\n",
              "      display:flex;\n",
              "      flex-wrap:wrap;\n",
              "      gap: 12px;\n",
              "    }\n",
              "\n",
              "    .colab-df-convert {\n",
              "      background-color: #E8F0FE;\n",
              "      border: none;\n",
              "      border-radius: 50%;\n",
              "      cursor: pointer;\n",
              "      display: none;\n",
              "      fill: #1967D2;\n",
              "      height: 32px;\n",
              "      padding: 0 0 0 0;\n",
              "      width: 32px;\n",
              "    }\n",
              "\n",
              "    .colab-df-convert:hover {\n",
              "      background-color: #E2EBFA;\n",
              "      box-shadow: 0px 1px 2px rgba(60, 64, 67, 0.3), 0px 1px 3px 1px rgba(60, 64, 67, 0.15);\n",
              "      fill: #174EA6;\n",
              "    }\n",
              "\n",
              "    [theme=dark] .colab-df-convert {\n",
              "      background-color: #3B4455;\n",
              "      fill: #D2E3FC;\n",
              "    }\n",
              "\n",
              "    [theme=dark] .colab-df-convert:hover {\n",
              "      background-color: #434B5C;\n",
              "      box-shadow: 0px 1px 3px 1px rgba(0, 0, 0, 0.15);\n",
              "      filter: drop-shadow(0px 1px 2px rgba(0, 0, 0, 0.3));\n",
              "      fill: #FFFFFF;\n",
              "    }\n",
              "  </style>\n",
              "\n",
              "      <script>\n",
              "        const buttonEl =\n",
              "          document.querySelector('#df-204c1e06-76bf-43a7-8903-e4d10c2ba913 button.colab-df-convert');\n",
              "        buttonEl.style.display =\n",
              "          google.colab.kernel.accessAllowed ? 'block' : 'none';\n",
              "\n",
              "        async function convertToInteractive(key) {\n",
              "          const element = document.querySelector('#df-204c1e06-76bf-43a7-8903-e4d10c2ba913');\n",
              "          const dataTable =\n",
              "            await google.colab.kernel.invokeFunction('convertToInteractive',\n",
              "                                                     [key], {});\n",
              "          if (!dataTable) return;\n",
              "\n",
              "          const docLinkHtml = 'Like what you see? Visit the ' +\n",
              "            '<a target=\"_blank\" href=https://colab.research.google.com/notebooks/data_table.ipynb>data table notebook</a>'\n",
              "            + ' to learn more about interactive tables.';\n",
              "          element.innerHTML = '';\n",
              "          dataTable['output_type'] = 'display_data';\n",
              "          await google.colab.output.renderOutput(dataTable, element);\n",
              "          const docLink = document.createElement('div');\n",
              "          docLink.innerHTML = docLinkHtml;\n",
              "          element.appendChild(docLink);\n",
              "        }\n",
              "      </script>\n",
              "    </div>\n",
              "  </div>\n",
              "  "
            ]
          },
          "metadata": {},
          "execution_count": 3
        }
      ],
      "source": [
        "#Read the dataset from the github repo\n",
        "url = \"https://raw.githubusercontent.com/ChunxiaqiuY/BA865-Advanced-Analytics_Team-Great/main/fake_job_postings.csv\"\n",
        "df = pd.read_csv(url)\n",
        "#Basic understanding of the data, sample data\n",
        "df.sample(5)"
      ]
    },
    {
      "cell_type": "code",
      "execution_count": null,
      "metadata": {
        "colab": {
          "base_uri": "https://localhost:8080/"
        },
        "id": "vt2lh8qBnTpB",
        "outputId": "d3173ee5-04cd-4444-a36f-01c1844507d6"
      },
      "outputs": [
        {
          "output_type": "execute_result",
          "data": {
            "text/plain": [
              "job_id                     0\n",
              "title                      0\n",
              "location                 346\n",
              "department             11547\n",
              "salary_range           15011\n",
              "company_profile         3308\n",
              "description                1\n",
              "requirements            2695\n",
              "benefits                7209\n",
              "telecommuting              0\n",
              "has_company_logo           0\n",
              "has_questions              0\n",
              "employment_type         3471\n",
              "required_experience     7050\n",
              "required_education      8104\n",
              "industry                4902\n",
              "function                6455\n",
              "fraudulent                 0\n",
              "dtype: int64"
            ]
          },
          "metadata": {},
          "execution_count": 4
        }
      ],
      "source": [
        "##Check missing value in each category\n",
        "df.isna().sum()"
      ]
    },
    {
      "cell_type": "code",
      "source": [
        "df.info()"
      ],
      "metadata": {
        "colab": {
          "base_uri": "https://localhost:8080/"
        },
        "id": "P5p3ML36Nl1u",
        "outputId": "f2c4244c-5408-4508-cc62-f521602fbacf"
      },
      "execution_count": null,
      "outputs": [
        {
          "output_type": "stream",
          "name": "stdout",
          "text": [
            "<class 'pandas.core.frame.DataFrame'>\n",
            "RangeIndex: 17879 entries, 0 to 17878\n",
            "Data columns (total 18 columns):\n",
            " #   Column               Non-Null Count  Dtype \n",
            "---  ------               --------------  ----- \n",
            " 0   job_id               17879 non-null  int64 \n",
            " 1   title                17879 non-null  object\n",
            " 2   location             17533 non-null  object\n",
            " 3   department           6332 non-null   object\n",
            " 4   salary_range         2868 non-null   object\n",
            " 5   company_profile      14571 non-null  object\n",
            " 6   description          17878 non-null  object\n",
            " 7   requirements         15184 non-null  object\n",
            " 8   benefits             10670 non-null  object\n",
            " 9   telecommuting        17879 non-null  int64 \n",
            " 10  has_company_logo     17879 non-null  int64 \n",
            " 11  has_questions        17879 non-null  int64 \n",
            " 12  employment_type      14408 non-null  object\n",
            " 13  required_experience  10829 non-null  object\n",
            " 14  required_education   9775 non-null   object\n",
            " 15  industry             12977 non-null  object\n",
            " 16  function             11424 non-null  object\n",
            " 17  fraudulent           17879 non-null  int64 \n",
            "dtypes: int64(5), object(13)\n",
            "memory usage: 2.5+ MB\n"
          ]
        }
      ]
    },
    {
      "cell_type": "markdown",
      "source": [
        "##Preprocess & Data Cleaning"
      ],
      "metadata": {
        "id": "JxIBLYFKTO6r"
      }
    },
    {
      "cell_type": "code",
      "source": [
        "# Unknown for missing location\n",
        "df.location = df.location.fillna('unknown')\n",
        "# unknown for missing department\n",
        "df.department = df.department.fillna('unknown')\n",
        "# fill average for missing salary_range\n",
        "job_salary = df.copy()\n",
        "salary_temp = job_salary.salary_range.dropna()\n",
        "ranges = []\n",
        "for i in salary_temp:\n",
        "  try:\n",
        "    ranges.append(int(i.split(\"-\")[0]))\n",
        "    ranges.append(int(i.split(\"-\")[1]))\n",
        "  except:\n",
        "    ranges.append(0)\n",
        "np.asarray(ranges)\n",
        "average_salary = np.average(ranges)\n",
        "df.salary_range = df.salary_range.fillna('average_salary')\n",
        "# Unknown for missing company_profile\n",
        "df['company_profile'] = df['company_profile'].fillna('unknown')\n",
        "# Unknown for missing description\n",
        "df['description'] = df['description'].fillna('unknown')\n",
        "# Unknown for missing requirements\n",
        "df['requirements'] = df['requirements'].fillna('unknown')\n",
        "# Unknown for missing employment, then replace the category value to numeric \n",
        "df['employment_type'] = df['employment_type'].fillna('unknown')\n",
        "df['employment_type'].replace(['Full-time', 'Part-time','Contract', 'Temporary', 'Other', 'unknown'],\n",
        "                        [0, 1, 2, 3, 4, 5], inplace=True)\n",
        "# Unknown for missing required_experience, then replace the category value to numeric \n",
        "df['required_experience'] = df['required_experience'].fillna('unknown')\n",
        "df['required_experience'].replace(['Not Applicable', 'Mid-Senior level','Associate', 'Entry level', 'Executive', 'Director', 'Internship',\n",
        "                          'unknown'], [0, 1, 2, 3, 4, 5, 6, 7], inplace=True)\n",
        "# Unknown for missing benefits\n",
        "df['benefits'] = df['benefits'].fillna('unknown')\n",
        "# Unknown for missing required_education\n",
        "df['required_education'] = df['required_education'].fillna('unknown')\n",
        "df_re = pd.get_dummies(df, columns=['required_education'])\n",
        "# Unknown for missing industry\n",
        "df['industry'] = df['industry'].fillna('unknown')\n",
        "df_industry = pd.get_dummies(df, columns=['industry'])\n",
        "# Unknown for missing function\n",
        "df['function'] = df['function'].fillna('unknown')\n",
        "df_function = pd.get_dummies(df, columns=['function'])\n",
        "required_experience_c = utils.to_categorical(df['required_experience'])\n",
        "employment_type_c = utils.to_categorical(df['employment_type'])\n"
      ],
      "metadata": {
        "id": "vDDLVJXaTRBn"
      },
      "execution_count": null,
      "outputs": []
    },
    {
      "cell_type": "code",
      "source": [
        "##Double check all missing value are properly handled\n",
        "df.isna().sum()"
      ],
      "metadata": {
        "colab": {
          "base_uri": "https://localhost:8080/"
        },
        "id": "2M9brw4WdzhX",
        "outputId": "b6566019-dd45-48da-c5ae-fb493bbbf9e6"
      },
      "execution_count": null,
      "outputs": [
        {
          "output_type": "execute_result",
          "data": {
            "text/plain": [
              "job_id                 0\n",
              "title                  0\n",
              "location               0\n",
              "department             0\n",
              "salary_range           0\n",
              "company_profile        0\n",
              "description            0\n",
              "requirements           0\n",
              "benefits               0\n",
              "telecommuting          0\n",
              "has_company_logo       0\n",
              "has_questions          0\n",
              "employment_type        0\n",
              "required_experience    0\n",
              "required_education     0\n",
              "industry               0\n",
              "function               0\n",
              "fraudulent             0\n",
              "dtype: int64"
            ]
          },
          "metadata": {},
          "execution_count": 7
        }
      ]
    },
    {
      "cell_type": "code",
      "source": [
        "#Make a copy of the orginal df, use job id as index \n",
        "job = df.copy()\n",
        "job.index = job['job_id']\n",
        "del job['job_id']"
      ],
      "metadata": {
        "id": "-az0zqe8d-qs"
      },
      "execution_count": null,
      "outputs": []
    },
    {
      "cell_type": "code",
      "source": [
        "# Let's shuffle things... \n",
        "shuffled_indices= np.arange(job.shape[0])\n",
        "np.random.shuffle(shuffled_indices)\n",
        "\n",
        "text_info = (job.title + job.location + job['company_profile'] + job.description + job.requirements + job. benefits).to_numpy()\n",
        "label = np.where(job['fraudulent']=='fraudulent',1,0)\n",
        "\n",
        "print(text_info)\n",
        "text_info = text_info[shuffled_indices]\n",
        "label = label[shuffled_indices]\n",
        "print(text_info)"
      ],
      "metadata": {
        "id": "--CWkm4bpN7a",
        "colab": {
          "base_uri": "https://localhost:8080/"
        },
        "outputId": "841b7cf7-5b47-46e8-da8b-1927d42079d3"
      },
      "execution_count": null,
      "outputs": [
        {
          "output_type": "stream",
          "name": "stdout",
          "text": [
            "[\"Customer Service - Cloud Video ProductionNZ, , Auckland90 Seconds, the worlds Cloud Video Production Service.90 Seconds is the worlds Cloud Video Production Service enabling brands and agencies to get high quality online video content shot and produced anywhere in the world. 90 Seconds makes video production fast, affordable, and all managed seamlessly in the cloud from purchase to publish. http://90#URL_fbe6559afac620a3cd2c22281f7b8d0eef56a73e3d9a311e2f1ca13d081dd630#90 Seconds removes the hassle, cost, risk and speed issues of working with regular video production companies by managing every aspect of video projects in a beautiful online experience. With a growing global network of over 2,000 rated video professionals in over 50 countries managed by dedicated production success teams in 5 countries, 90 Seconds provides a 100% success guarantee.90 Seconds has produced almost 4,000 videos in over 30 Countries for over 500 Global brands including some of the worlds largest including Paypal, L’Oreal, Sony and Barclays and has offices in Auckland, London, Sydney, Tokyo and Singapore.http://90#URL_fbe6559afac620a3cd2c22281f7b8d0eef56a73e3d9a311e2f1ca13d081dd630#\\xa0|\\xa0http://90#URL_e2ad0bde3f09a0913a486abdbb1e6ac373bb3310f64b1fbcf550049bcba4a17b#\\xa0| http://90#URL_8c5dd1806f97ab90876d9daebeb430f682dbc87e2f01549b47e96c7bff2ea17e#\\xa0Organised - Focused - Vibrant - Awesome!Do you have a passion for customer service? Slick typing skills? Maybe Account Management? ...And think administration is cooler than a polar bear on a jetski? Then we need to hear you!\\xa0We are the Cloud Video Production Service and opperating on a glodal level. Yeah, it's pretty cool. Serious about\\xa0delivering a world class product and excellent customer service.Our rapidly expanding business is looking for a talented Project Manager to manage the successful delivery of video projects, manage client communications and drive the production process. Work with some of the coolest brands on the planet and learn from a global team that are representing NZ is a huge way!We are entering the next growth stage of our business and growing quickly internationally. \\xa0Therefore, the position is bursting with opportunity for the right person entering the business at the right time.\\xa090 Seconds, the worlds Cloud Video Production Service -\\xa0http://90#URL_fbe6559afac620a3cd2c22281f7b8d0eef56a73e3d9a311e2f1ca13d081dd630#90 Seconds is the worlds Cloud Video Production Service enabling brands and agencies to get high quality online video content shot and produced anywhere in the world. Fast, affordable, and all managed seamlessly in the cloud from purchase to publish.\\xa090 Seconds removes the hassle, cost, risk and speed issues of working with regular video production companies by managing every aspect of video projects in a beautiful online experience. \\xa0With a growing network of over 2,000 rated video professionals in over 50 countries and dedicated production success teams in 5 countries guaranteeing video project success 100%. It's as easy as commissioning a quick google adwords campaign.90 Seconds has produced almost 4,000 videos in over 30 Countries for over 500 Global brands including some of the worlds largest including Paypal, L'oreal, Sony and Barclays and has offices in Auckland, London, Sydney, Tokyo &amp; Singapore.Our Auckland office is based\\xa0right in the heart of the Wynyard Quarter Innovation Precinct - GridAKL!\\xa0What we expect from you:Your key responsibility will be to communicate with the client, 90 Seconds team and freelance community throughout the video production process including, shoot planning, securing freelance talent, managing workflow and the online production management system. \\xa0The aim is to manage each video project effectively so that we produce great videos that our clients love.Key\\xa0attributesClient focused\\xa0- excellent customer service and communication skillsOnline -\\xa0oustanding computer knowledge and experience using online software and project management toolsOrganised\\xa0- manage workload and able to multi-task100% attention to detailMotivated -\\xa0self-starter with a passion for doing excellent work and achieving great resultsAdaptable\\xa0- show initiative and think on your feet as this is a constantly evolving atmosphereFlexible\\xa0- fast turnaround work and after hours availabilityEasy going\\xa0&amp; upbeat\\xa0- dosen't get bogged down and loves the challengeSense of Humour\\xa0- have a laugh and know that working in a startup takes guts!Ability to deliver\\xa0- including meeting project deadlines and budgetAttitude is more important than experience at 90 Seconds, however previous experience in customer service and/or project management is beneficialPlease view our platform / website at\\xa0#URL_395a8683a907ce95f49a12fb240e6e47ad8d5a4f96d07ebbd869c4dd4dea1826#\\xa0and get a clear understand about what we do before reaching out.What you will get from usThrough being part of the 90 Seconds team you will gain:experience working on projects located around the world with an international brandexperience working with a variety of clients and on a large range of projectsopportunity to drive and grow production function and teama positive working environment with a great teamPay$40,000-$55,000Applying for this role with a VIDEOBeing a video business, we understand that one of the quickest ways that we can assess your suitability for this role, and one of the quickest ways that you can apply for it, is for you to submit a 60-90 second long video telling us about yourself, your experience and why you think you would be perfect for the role. \\xa0It’s not about being a filmmaker or making a really creative video. \\xa0A simple video filmed with a smart phone or web cam will be fine. Please also include where you are based and when you can start.You can upload the video onto YouTube or Vimeo (or similar) as a Draft or Live link.APPLICATIONS DUE by 5pm on Wednesday 18th July 2014 -\\xa0Once you have a video ready, apply for this role via the following link together with a cover letter and your CV.\\xa0After we have watched your video and get an idea of your suitability for the role, we will email the shortlisted candidates\"\n",
            " \"Commissioning Machinery Assistant (CMA)US, IA, WeverValor Services provides Workforce Solutions that meet the needs of companies across the Private Sector, with a special focus on the Oil &amp; Gas Industry.\\xa0Valor Services will be involved with you throughout every step of the hiring process and remain in contact with you all the way through the final step of signing of the employment contract with your new employer.\\xa0Valor Services was founded with the vision of employing the unique skills, experiences, and qualities of America’s finest veterans to provide Private Sector companies with precise and concerted value-added services – and America’s finest Veterans with an optimized career opportunity.We are eager to get the word out to veterans that there are ample opportunities for employment in the private sector and that you are the ideal candidates to fill those positions.\\xa0Valor Services\\xa0Your Success is Our Mission.\\xa0™\\xa0Our client, located in Houston, is actively seeking an experienced Commissioning Machinery Assistant that possesses strong supervisory skills and has an attention to detail. A strong dedication to safety is a must. The ideal candidate will execute all activities while complying with quality requirements and health, environmental, and safety regulations.Implement pre-commissioning and commissioning procedures for rotary equipment.Execute all activities with subcontractor’s assigned crew that pertains to the discipline.Ensure effective utilization of commissioning manpower and consumables.Ensure the execution of vendor specialists' field activities with the assigned resources from the sub-contractor per vendor’s representative plans.Carry out equipment inspections with client representatives and ensure proper certification is produced.Prepare forms for all pending tests and submit signed certificates for final hand over to the certification engineer for QA and QC.Coordinate in the field with vendor representatives.Keep records of all activities.Ensure that safety practices are strictly followed during the execution of activities.Report progress and constraints to the mechanical supervisor.Possible authorization by site manager to receive or issue a Permit To Work according to project Permit To Work procedures.Assist supervisor to expedite pending punch-list items in accordance with the commissioning manager’s priorities.Assist supervisor to coordinate and supervise construction-support activities during pre-commissioning and commissioning activities.Company Overview:Our client is a premiere engineering, construction, and procurement company that executes large-scale projects internationally.unknown\"\n",
            " \"Account Executive - Washington DCUS, DC, WashingtonOur passion for improving quality of life through geography is at the heart of everything we do.\\xa0 Esri’s geographic information system (GIS) technology inspires and enables governments, universities and businesses worldwide to save money, lives and our environment through a deeper understanding of the changing world around them.Carefully managed growth and zero debt give Esri stability that is uncommon in today's volatile business world.\\xa0 Privately held, we offer exceptional benefits, competitive salaries, 401(k) and profit-sharing programs, opportunities for personal and professional growth, and much more.THE COMPANY: ESRI – Environmental Systems Research InstituteOur passion for improving quality of life through geography is at the heart of everything we do.\\xa0 Esri’s geographic information system (GIS) technology inspires and enables governments, universities and businesses worldwide to save money, lives and our environment through a deeper understanding of the changing world around them.Carefully managed growth and zero debt give Esri stability that is uncommon in today's volatile business world.\\xa0 Privately held, we offer exceptional benefits, competitive salaries, 401(k) and profit-sharing programs, opportunities for personal and professional growth, and much more.THE OPPORTUNITY: Account ExecutiveAs a member of the Sales Division, you will work collaboratively with an account team in order to sell and promote adoption of Esri’s ArcGIS platform within an organization. As part of an account team, you will be responsible for facilitating the development and execution of a set of strategies for a defined portfolio of accounts. When executing these strategies you will utilize your experience in enterprise sales to help customers leverage geospatial information and technology to achieve their business goals.\\xa0Specifically…Prospect and develop opportunities to partner with key stakeholders to envision, develop, and implement a location strategy for their organizationClearly articulate the strength and value proposition of the ArcGIS platformDevelop and maintain a healthy pipeline of opportunities for business growthDemonstrate a thoughtful understanding of insightful industry knowledge and how GIS applies to initiatives, trends, and triggersUnderstand the key business drivers within an organization and identify key business stakeholdersUnderstand your customers’ budgeting and acquisition processesSuccessfully execute the account management process including account prioritization, account resourcing, and account planningSuccessfully execute the sales process for all opportunitiesLeverage and lead an account team consisting of sales and other cross-divisional resources to define and execute an account strategyEffectively utilize and leverage the CRM to manage opportunities and drive the buying processPursue professional and personal development to ensure competitive knowledge of the real estate industryLeverage social media to successfully prospect and build a professional networkParticipate in trade shows, workshops, and seminars (as required)Support visual story telling through effective whiteboard sessionsBe resourceful and takes initiative to resolve issuesEDUCATION:\\xa0Bachelor’s or Master’s in GIS, business administration, or a related field, or equivalent work experience, depending on position levelEXPERIENCE:\\xa05+ years of enterprise sales experience providing platform solutions to businessesDemonstrated experience in managing the sales cycle including prospecting, proposing, and closingAbility to adapt to new technology trends and translate them into solutions that address customer needsDemonstrated experience with strong partnerships and advocacy with customersExcellent presentation, white boarding, and negotiation skills including good listening, probing, and qualification abilitiesExperience executing insight selling methodologiesDemonstrated understanding and mitigation of competitive threatsExcellent written and verbal communication and interpersonal skillsAbility to manage and prioritize your activitiesDemonstrated experience to lead executive engagements to provide services and sell to the real estate industryKnowledge of the real estate industry fiscal year, budgeting, and procurement cycleHighly motivated team player with a mature, positive attitude and passion to meet the challenges and opportunities of a businessAbility to travel domestically and/or internationally up to 50%General knowledge of spatial analysis and problem solvingResults oriented; ability to write and craft smart, attainable, realistic, time-driven goals with clear lead indicatorsOur culture is anything but corporate—we have a collaborative, creative environment; phone directories organized by first name; a relaxed dress code; and open-door policies.A Place to ThrivePassionate people who strive to make a differenceCasual dress codeFlexible work schedulesSupport for continuing educationCollege-Like CampusA network of buildings amid lush landscaping and numerous outdoor patio areasOn-site café including a Starbucks coffee bar and lounge areaFitness center available 24/7Comprehensive reference library and GIS bibliographyState-of-the-art conference center to host staff and guest speakers\\xa0Green InitiativesSolar rooftop panels reduce carbon emissionsElectric vehicles provide on-campus transportationHundreds of trees reduce the cost of cooling buildings\"\n",
            " ...\n",
            " 'Project Cost Control Staff Engineer - Cost Control Exp - TXUS, TX, HoustonWe Provide Full Time Permanent Positions for many medium to large US companies. We are interested in finding/recruiting high quality candidates in IT, Engineering, Manufacturing and other highly technical and non-technical jobs.Experienced Project Cost Control Staff Engineer is required having responsibility to provide proper variance explanation and root causes analysis of changes\\xa0D - 166Job Responsibilities:\\xa0Cost Control for large capital investments of various size and complexityActive participation in the overall cost control process.\\xa0Ensure proper progress tracking and change management systems are in place and effectively functioning in construction and detailed engineering phases of projects.Provide proper variance explanation and root causes analysis of changesDevelopment of project cost forecast and preparation of project cost reportsAssist in the development and improvement of cost controlling tools and processes.Strong analytical skills that will allow proper assessments of projects to identify potential issues.\\xa0Able support development and recommend solutions via communication and support with Project Management.Perform studies and analysisPerform bid analysis for complex service contractsPerform audits of invoicesEvaluate field change orders and validate contractor estimate and pricingDevelopment and support of contracting strategy for large capital projectsWill be required to work both independently and with a team in carrying out a project’s cost control and forecasting\\xa0 efforts\\xa0At least 12 years professional experience.Ability to work in a diverse team environmentA minimum of 8 years of experience in project cost control with a working knowledge of engineering, procurement, accounting, and construction practicesAvailable for 25% travel to support the businessStrong Analytical skillsExcellent computer skillsExcellent quality orientation and attention to detailGood communication skills\\xa0Educational Qualifications:\\xa0BS Degree in Engineering, Construction Management, Finance, Accounting, Business Management or Mathematics\\xa0We Provide Full Time Permanent Positions for many medium to large US companies. We have more than 1500 jobs available in our website. Our website has thousands of openings and these job openings are not posted anywhere else online. When you apply online through our website, it automatically forwards your information to the recruiter handling your applied job. If you are a close match, they will contact you immediately to discuss about the positions and do everything to get you an interview with the client as quickly as possible.\\xa0Visit\\xa0 : #URL_ec64af2b4fe2ca316e828f93b0cd098c22f8beba98dcac09d4dd7384b221a5e8#-#URL_9753a54b28303bf636a2816399b9c255d76fabb791336a4c748da2611a23264f#\\xa0unknown'\n",
            " 'Graphic DesignerNG, LA, LagosunknownNemsia Studios is looking for an experienced visual/graphic designer to join our Lagos office. The idealcandidate will be versatile in both print and digital design mediums. Working closely with our Strategists and creative team you will be engaged on projects from the pitch phase through brainstorming, concepting, and design to execution and final delivery. You will bring your all to\\xa0creating and crafting BEAUTIFUL visual expressions of ideas and briefs. We will always have ongoing internal projects.1. Must be fluent in the latest versions of Corel &amp; Adobe CC (Esp. Photoshop, Illustrator &amp; Indesign) 2. Have a strong interest in interactive/interface design 3. Understand color theory, typography, composition and photo retouching 4. Be able to take design direction 5. Must think creatively and step outside of the norm 6. Be willing to put in the extra time and effort on projects 7. Eager to learn and have a great attitude 8. Be self-sufficient and able to figure problems out on your ownCompetitive salary (compensation will be based on experience) Casual attire At Nemsia Studios you are assured of a pleasant, enthusiastic, fast paced work environment with a lot of great people who love what they do!'\n",
            " \"Web Application DevelopersNZ, N, WellingtonVend is looking for some awesome new talent to come join us. You'll be working in an awesome team doing awesome things, and generally being awesome.Learn about us on our\\xa0blog, or meet the team on\\xa0Twitter,\\xa0Facebook,\\xa0LinkedInAwesome SpaceOur brand new Auckland office space is located on Nuffield Street in Newmarket, surrounded by our customers and the industry we love. It is huge, open, and shiny new with great meeting room spaces, casual working environments and plenty of space to host awesome events. We don't do cubicles, just plenty of space, whiteboards and meetings rooms. We also have a great cafe/retail space with our very own Front of House Manager taking care of our visitors and fellow Venders.\\xa0Like Auckland our Melbourne office is surrounded by retail. It's a great wee space equipped with tiny houses and some awesome cardboard cutout animals.Our Toronto office is located right in the heart of downtown retail district. Like Melbourne and Auckland there's a great vibe with great coffee, boutique stores and some of the greatest restaurants in the city.\\xa0Our SoMa office in San Francisco is located in the middle of the SF tech scene, just a (Biz) stone's throw from Twitter.The EnvironmentWe want you to be at the top of your game. You can wear whatever clothing you like, start work late in the morning, take breaks whenever you want and generally work the way you want to work.\\xa0Who we're looking forVend is looking for people to push the boundaries. We are a hard working professional team with a wicked sense of humour, and we are looking for people who thrive in a collaborative open environment. We want passionate, hard working, talented individuals that want to lead in their field.Who are we?Vend is an award winning web based point of sale software for retail.\\xa0 We’re chucking out crusty old cash registers and replacing them with iPads, touch screens and beautiful software, all of this to make life easier for our retailers.\\xa0 Vend is a fast-growing tech start-up, since launching in 2010 we’ve now got 10,000+ customers all over the world and have more than 100 employees.\\xa0In case you’re interested in our tech stack we use Capistrano, Redis, Git / Github, Vagrant, Jenkins, Puppet, Resque, New Relic, Doctrine, MySQL, Objective C, PHP, JavaScript, GO, Symfony, Rake, Selenium, Compass, SASS, jQuery, Bundler, Nginx, and a bunch of other things.Why you’d like us:Our engineering department houses some of the smartest minds in NZ, they work tirelessly with our product teams to come up with the best and brightest new features and fixes for the Vend platform. As you can see from our tech stack above, we use the latest and greatest to bring delight to our customers, and want to add members to our team that live and breathe technology just like we do.As well as developing a world-leading product, we believe that our culture is world-leading too! We balance super hard work with having a lot of fun at work! \\xa0Like playing pool, getting a Dia de los Muertos makeover, zoning out on the couches listening to music or raiding the snack cupboard (FYI frozen marshmallows are the latest craze at Vend - seriously, try them!).\\xa0Work-life balance. \\xa0We know you have a life outside of work. We know you probably have little side projects or businesses too. This is valued and at Vend you can have a life inside work to. We’ll also give you a $5,000 allowance per year to develop your skills and attend conferences of your choice. Within reason, of course. We turned down the guy who wanted to use the five large to go to a\\xa0heavy metal concert on a cruise ship.\\xa0We want to hear from you if:You have an in-depth understanding of OO programmingYou totally get MVC and multi-tier architectureYou have experience with TDD or writing automated testsYou understand relational databases and know how to write SQLYou’ve worked an Agile-style team before and are down with cooperationBonus points if you’ve worked in retail beforeIf this sounds like you then get in touch now and delight us with your unique application! We have HUGE projects in the pipeline this year and need the best talent on-board to help achieve our goals.While Vend is totally open to receiving applications from people based overseas, our recruitment process for technical talent is lengthy and involves a lot of face-to-face time between our candidates and existing team members here. We can start initial stages of interviewing using awesome technology like Skype and Google Hangouts, we really need you to be here and to have hung out with us in Auckland before making a job offer.unknown\"]\n",
            "[\"Credit Manager / Consultant (Commercial Lending/Factoring)US, MN, MinneapolisValor Services provides Workforce Solutions that meet the needs of companies across the Private Sector, with a special focus on the Oil &amp; Gas Industry.\\xa0Valor Services will be involved with you throughout every step of the hiring process and remain in contact with you all the way through the final step of signing of the employment contract with your new employer.\\xa0Valor Services was founded with the vision of employing the unique skills, experiences, and qualities of America’s finest veterans to provide Private Sector companies with precise and concerted value-added services – and America’s finest Veterans with an optimized career opportunity.We are eager to get the word out to veterans that there are ample opportunities for employment in the private sector and that you are the ideal candidates to fill those positions.\\xa0Valor Services\\xa0Your Success is Our Mission.\\xa0™\\xa0Are you a seasoned Credit Manager looking for a great long-term project or full-time opportunity?\\xa0We're looking for a strategic Credit Manager to build our Credit Department / Teams while helping to improve\\xa0operational goals.JOB SCOPE:Responsible for the overall management of the Credit Department which includes, developing and improving operational goals of department, staffing, training, and development of staff.Staffing and Training:Monitor demand for credit reviews versus team capacity and timely address staffing needs to ensure department goals and objectives are metPrioritize staff duties and monitor teams quality of workProvide for ongoing training of the credit staffEvaluate effectiveness of current collection policies and procedures- goal of reducing potential bad debtEstablish credit limits on customer accounts/ monitor and recommend changes to senior managementMonthly reporting of Key Performance Indicators for the department\\xa0Internal and External Relationship MaintenanceManage relations with credit reporting agenciesResearch credit utilizing reports from credit agencies, bank and trade references, and\\xa0financial statements to establish and maintain credit approval limitsCommunicate credit limits to internal and external customers10 plus years of experience in Commercial and Industrial lendingExperience in structuring and portfolio risk managementSolid understanding of balance sheet analysis, credit risk, financial exposure and\\xa0setting credit limitsStrong computer, organizational, analytical, and communication skillsExperience in supervising staffAbility to work in a fast paced environmentEDUCATIONCollege degree (MBA preferred but not required)Proficient in Excel, Access and Microsoft Office\\xa0unknown\"\n",
            " \"Junior Project ManagerPL, , PoznańWe are Netguru and we love to develop web application based on Ruby On Rails framework. We value quality, transparent communication and passion for work.We are Netguru and we love to develop web and mobile applications. We value quality, transparent communication and passion for work.\\xa0Our projects are waiting for a new Junior Project Manager!\\xa0Are you ready to join netguru’s journey? Don't hold yourself, solve the task until Novemver 17th.Joining Netguru means:Startup-type projects for clients all over the worldMacBook Air - we work on the best equipmentPrivate Health InsuranceVery quick and clear recruitment process (only fulfilled promises)If you:feel that: planning, organizing and motivating others is something that you really want to do in your lifeare not afraid of managing IT projectscan convince us that effective communication is your strong sideare crazy about new technologyknow how to empower others, utilize negotiation skills to achieve results and nurture relationshipsknow what Agile and Scrum methodologies are all aboutcommunicate fluently in Englishcan’t wait the moment when you start working with our customers... that means you’re the perfect person who should join our team!What are the junior project manager’s duties?creating compact and friendly project documentation [user stories]communicating with clients and coordinating the development of applicationsmotivating and supporting the teambeing ready to face unpredictable situationsSalary:3600 PLN bruttoPerks &amp; benefits:co-financing international conferencesEnglish lessons once a weekhalf-price lunchesFIFA, Xbox &amp; other gamesNetguru Dinner once a monthDon’t hesitate and apply right now! Want to see more? Ask us at #EMAIL_1b33163979a7fd44dfe5647ee17b03f4f4c91354e086c66ded7ea4f4879077b7#\"\n",
            " \"Customer Service Associate - On Call US, NY, New YorkNovitex Enterprise Solutions, formerly Pitney Bowes Management Services, delivers innovative document and communications management solutions that help companies around the world drive business process efficiencies, increase productivity, reduce costs and improve customer satisfaction. For almost 30 years, clients have turned to us to integrate and optimize their enterprise-wide business processes to empower employees, increase productivity and maximize results. As a trusted partner, we continually focus on delivering secure, technology-enabled document and communications solutions that improve our clients' work processes, enhance their customer interactions and drive growth.The Customer Service Associate will be based in New York, NY. The right candidate will be an integral part of our talented team, supporting our continued growth.Responsibilities:Perform various Mail Center activities (sorting, metering, folding, inserting, delivery, pickup, etc.)Lift heavy boxes, files or paper when neededMaintain the highest levels of customer care while demonstrating a friendly and cooperative attitudeDemonstrate flexibility in satisfying customer demands in a high volume, production environmentConsistently adhere to business procedure guidelinesAdhere to all safety proceduresTake direction from supervisor or site managerMaintain all logs and reporting documentation; attention to detailParticipate in cross-training and perform other duties as assigned (Filing, outgoing shipments, etc)Operating mailing, copy or scanning equipmentShipping &amp; ReceivingHandle time-sensitive material like confidential, urgent packagesPerform other tasks as assignedScanning incoming mail to recipientsPerform file purges and pullsCreate files and ship filesProvide backfill when neededEnter information daily into spreadsheetsIdentify charges and match them to billingSort and deliver mail, small packagesMinimum Requirements:Minimum of 6 months customer service related experience requiredHigh school diploma or equivalent (GED) requiredPreferred Qualifications:Keyboarding and windows environment PC skills required (Word, Excel and PowerPoint preferred)Experience running mail posting equipment a plusExcellent communication skills both verbal and writtenLifting up to 55 lbs with or without accommodationsWillingness and availability to work additional hours if assignedWillingness to submit to a pre-employment drug screening and criminal background checkAbility to effectively work individually or in a team environmentCompetency in performing multiple functional tasksAbility to meet employer's attendance policyunknown\"\n",
            " ...\n",
            " \"Senior Sales Executive - Mid AtlanticUS, CA, San FranciscoFrom the lands of Can Do, Roll Our Sleeves Up and Get It Done, we create and solve things previously unimaginable. We’re revolutionizing the IT industry with a platform that provides unprecedented control over all service layers in an organization. We also transform the way people experience enterprise software — they’ll accomplish more each day and enjoy using our platform as part of their daily lives. This sounds massively ambitious and tough because it is. We’re a small team that doesn’t shy away from hard problems and we need more big thinkers and self-starters like you. If you want to be at the forefront of innovation, join us at Apcera and shine.Apcera is revolutionizing enterprise technology and the way customers experience enterprise software. As Senior Sales Executive, you'll be thoroughly versed in product know-how to help organizations understand how Apcera solves some of IT's toughest challenges, how the solution is delivered in an easily consumable way, and why it aligns with customers' vision for the future.\\xa0As an Apcera Senior Sales Executive you'll leverage internal resources to identify and manage opportunities from initial contact to contract negotiations/completion to successful implementations. Building business and acquiring new opportunities will be your main focus. You will be responsible for the overall performance of the current and emerging accounts within your assigned territory.\\xa0Apcera is currently searching for Senior Sales Executives in the following regions:\\xa0New York City, Boston, Mid Atlantic, Southeast, Dallas/Houston, Chicago, Seattle, Southern CA.\\xa0Strong competitive spirit and attention to detailStrong history of increasing revenue through new customer acquisitionDemonstrable success selling enterprise solutions to enterprise class companies in multiple verticalsBe proactive, gain trust by listening, and determine the customers’ challenges &amp; needsPosition product accurately to emphasize benefits and both the technical and business value of the technologyAbility to clearly articulate your point of view in professional manner throughout an organization and up to C level executivesProven success within a start up/fluid environment and demonstrable entrepreneurial spiritJob Responsibilities Develop and execute territory account plans to achieve and exceed assigned quotaWork effectively as an individual contributor running\\xa0multiple customer sales cyclesWork effectively as a member of a larger sales teamWork effectively to communicate prospect and customer needs internallyRespond to customer requests and RFPsProven ability to develop strong relationships with key decision makers, influencers and partners within identified territory\\xa0Proven ability to close opportunities and demonstrate commitment throughout the sales process\\xa0Grow and maintain an accurate and healthy pipelineMinimum Requirements Bachelor's degree 8+ years successful software sales experienceKnowledge of IaaS, paas, infrastructure &amp; operations, virtualization, cloud systems, SDN a plusVery strong presentation skills as well as excellent written and verbal communication skillsTravel within your assigned territory is requiredVery comfortable using Google products (Gmail, Gdocs, Hangouts), WebEx, Microsoft Office including Powerpoint and ExcelCompetitive salary &amp; equity100% premium-paid medical, dental, vision, and life insuranceFlexible vacation policyWorkstation setup of your choiceTeam and family events and excursions\"\n",
            " \"Intensive Case Management Worker (Bilingual Essential)CA, ON, OttawaSince 1973: Working together to make our community healthyGood health means more than just treating people when they are sick. Problems like poverty, addiction, and family violence can bring on illness – or keep people from getting well. At Sandy Hill Community Health Centre, we treat illness when it arises. We also work hard to create a healthy community, so that people stay well and get the most out of life, and we believe in:integrity | respect | equity | collaboration | empathy-------------------------------------------------------------------------------By applying to the posting I hereby acknowledge that the information I provide will be\\xa0collected by #URL_3c6b46782f8bf4c402537a5580ce452d1391bb2140bbd3533f0546551d2dea02# under the terms of their privacy policy http://#URL_3c6b46782f8bf4c402537a5580ce452d1391bb2140bbd3533f0546551d2dea02#/privacy . Candidates, when hired by SHCHC as employees will provide data in\\xa0under a separate process and be subject to SHCHC's Privacy and Confidentiality policies and procedures.-------------------------------------------------------------------------------Depuis 1973: Travailler ensemble pour une communauté en santéUne bonne santé signifie plus que de soigner les gens lorsqu'ils sont malades. Des problèmes comme la pauvreté, la dépendance, la violence familiale peuvent causer la maladie – ou empêcher les gens de se rétablir. Au Centre de santé communautaire Côte de sable, nous traitons la maladie lorsqu'elle se présente. En plus, nous travaillons fort pour créer une communauté bien portante, pour que les gens restent en bonne santé et profitent de la vie au maximum, et nous croyons dans:l'intégrité | le respect | l'équité | la collaboration| l'empathie-------------------------------------------------------------------------------En posant ma candidature pour cette offre d’emploi, je reconnais que les renseignements que je fournis seront recueillis par #URL_3c6b46782f8bf4c402537a5580ce452d1391bb2140bbd3533f0546551d2dea02# et traités conformément à sa politique de confidentialité\\xa0: http://#URL_3c6b46782f8bf4c402537a5580ce452d1391bb2140bbd3533f0546551d2dea02#/privacy. Les candidats embauchés par le CSCCS fourniront d’autres renseignements qui seront traités en vertu d’un processus distinct et sujets aux politiques et aux marches à suivre du CSCCS en matière de confidentialité et de protection des renseignements personnels.-------------------------------------------------------------------------------Internal/External Employment OpportunityPosition Title: Intensive Case Management Worker (Bilingual Essential)Component/Team: Intensive Case ManagementStatus: Permanent, 1.0 FTE Full-time (35 hours per week)Salary Scale: $44,624 - $53,764 annualized salary, plus benefitsStart Date: ImmediatelyPosition Description:The Intensive Case Management Worker is responsible for case management of clients with an overwhelming substance use disorder and mental health issues. This is a highly independent position that requires meeting clients alone in the community. The incumbent Intensive Case Management Worker exhibits capacity to work with people with concurrent disorders utilizing both a housing-first model and a harm reduction approach.Reporting Relationship:The Intensive Case Management Worker reports directly to the Program Coordinator and the Director of Oasis.Application Deadline: September 12th, 2014 at 4:00 PMEducation and LanguageA bachelor's degree in counseling, psychology, social science or health-related field.Under the Centre’s designation to provide French Language Services:-\\xa0\\xa0\\xa0\\xa0\\xa0\\xa0\\xa0\\xa0\\xa0 French (oral expression): Advanced +-\\xa0\\xa0\\xa0\\xa0\\xa0\\xa0\\xa0\\xa0\\xa0 French (oral comprehension): Superior-\\xa0\\xa0\\xa0\\xa0\\xa0\\xa0\\xa0\\xa0\\xa0 French (reading comprehension): AdvancedThis position is designated Bilingual Essential\\xa0Fluency in English, both oral and written\\xa0Professional ExperienceThree to five years’ experience in the mental health or addictions field working with street involved clients with complex issues, including concurrent disorders.Experience in engaging people with significant barriers to accessing health, social services and housing.Experience working with very difficult client behaviours, experience working within a harm reduction framework.Experience working in an independent outreach position, meeting with clients alone in the community or in their homesExperience in completing assessments, counseling for substance abuse, case management and goal- setting\\xa0Knowledge, Skills and AbilitiesStrong organizational, coordination and administrative skillsSound clinical recordkeeping and record managementHighly skilled in crisis management and intervention with clientsStrong interpersonal skills and networking skills.Knowledge of the broad range of health determinants and how they impact clients with an overwhelming substance use disorder and mental health issues.Good oral and written communication skills.Ability to assess/manage crisis situations.Strong interpersonal skills.A commitment to a cooperative approach to problem solving.Ability to work independently and as part of a multidisciplinary treatment team.Ability to engage clients with an overwhelming substance use disorder and mental health issues; demonstrated understanding of the unique issues and barriers affecting this population.Awareness of HIV/AIDS, HCV, harm reduction and related issues and their impact on clients with an overwhelming substance use disorder and mental health issues.Ability to support an individual to maintain housing.Knowledge of relevant legislation (i.e. Landlord and Tenant Act).Knowledge of addictions treatment modalities.Flexible schedule, able to work some evenings.Sandy Hill Community Health Centre offers employees an excellent benefits package which includes four weeks holidays in addition to a Pension Plan (Healthcare of Ontario Pension Plan - HOOPP) and excellent Group Insurance Plan.Only applicants selected for an interview will be contacted.\\xa0 No phone calls please.Conditions of Employment:Hours of work will be developed in collaboration with the successful candidate to ensure a healthy work-life balance.\\xa0 A schedule of work will be based on the Centre’s hours of operation and program requirements and may include some evenings.An offer of employment will be conditional upon the candidate completing a criminal reference check and linguistic profile to the satisfaction of the Sandy Hill Community Health Centre.By applying to the posting I hereby acknowledge that the information I provide will be\\xa0collected by #URL_3c6b46782f8bf4c402537a5580ce452d1391bb2140bbd3533f0546551d2dea02# under the terms of their privacy policy http://#URL_3c6b46782f8bf4c402537a5580ce452d1391bb2140bbd3533f0546551d2dea02#/privacy Candidates, when hired by SHCHC as employees will provide data in\\xa0under a separate process and be subject to SHCHC's Privacy and Confidentiality policies and procedures.\"\n",
            " \"TUFF-GARD Certified DealerUS, NY, unknownThis is your opportunity to become a Tuff-Gard certified dealer/applicator. Whether you are already in the roofing, spray foam, coating, or construction industry and would like more revenue for your business or you are looking to start a successful standalone business, Tuff-Gard has the solution.\\xa0Tuff-Gard's Dealer Package offers Extensive Training, Dealer Support, Equipment, Tuff-Gard Materials at Dealer Prices and qualified leads you'll need as part of a complete business package.\\xa0Interested in becoming a Tuff-Gard Dealer? Please Call #PHONE_3bc594e2b8481f00e627eeff3a2527f8020b507f18cc59a6694e9c4b7ef1b250#.unknownunknown\"]\n"
          ]
        }
      ]
    },
    {
      "cell_type": "code",
      "source": [
        "text_info.shape"
      ],
      "metadata": {
        "colab": {
          "base_uri": "https://localhost:8080/"
        },
        "id": "3pVmusjkv1xL",
        "outputId": "2335fff9-737f-48c5-9d63-9252595317a9"
      },
      "execution_count": null,
      "outputs": [
        {
          "output_type": "execute_result",
          "data": {
            "text/plain": [
              "(17879,)"
            ]
          },
          "metadata": {},
          "execution_count": 10
        }
      ]
    },
    {
      "cell_type": "markdown",
      "source": [
        "##TextVectorization() Layer"
      ],
      "metadata": {
        "id": "J-86MANo4KGp"
      }
    },
    {
      "cell_type": "code",
      "source": [
        "import tensorflow as tf\n",
        "import string\n",
        "import re\n",
        "from tensorflow import keras\n",
        "\n",
        "def custom_standardization_fn(string_tensor):\n",
        "    lowercase_string = tf.strings.lower(string_tensor) # We convert upper case characters to lowercase.\n",
        "    return tf.strings.regex_replace(\n",
        "        lowercase_string, f\"[{re.escape(string.punctuation)}]\", \"\") # We find and remove punctuation.\n",
        "  \n",
        "def custom_split_fn(string_tensor):\n",
        "    return tf.strings.split(string_tensor) # By default the separator is white space.\n",
        " \n",
        "text_vectorization = keras.layers.TextVectorization(\n",
        "    max_tokens=1000,\n",
        "    output_mode=\"int\",\n",
        "    standardize=custom_standardization_fn,\n",
        "    split=custom_split_fn,\n",
        ")\n",
        "\n",
        "##because the limit of ram, we can only choose the random 1500 rows \n",
        "dataset = text_info[:1500]\n",
        "text_vectorization.adapt(dataset)\n",
        "text_vectorization.get_vocabulary()"
      ],
      "metadata": {
        "id": "iaBnfDk34MK7"
      },
      "execution_count": null,
      "outputs": []
    },
    {
      "cell_type": "code",
      "source": [
        "processed_text = text_vectorization(dataset)"
      ],
      "metadata": {
        "id": "ywrAyi4WwQyF"
      },
      "execution_count": null,
      "outputs": []
    },
    {
      "cell_type": "code",
      "source": [
        "one_hot = tf.one_hot(processed_text, depth=1000)"
      ],
      "metadata": {
        "id": "jIp-qfDIwUC7"
      },
      "execution_count": null,
      "outputs": []
    },
    {
      "cell_type": "code",
      "source": [
        "# processed_text = text_vectorization(text_info)\n",
        "# one_hot = tf.one_hot(processed_text, depth=1000) # we one-hot encode those, so it becomes a length x1000 vector.\n",
        "\n",
        "# print(one_hot.shape)"
      ],
      "metadata": {
        "id": "fuDMrCmgKAD3"
      },
      "execution_count": null,
      "outputs": []
    },
    {
      "cell_type": "markdown",
      "metadata": {
        "id": "jE1NfRcEiVd3"
      },
      "source": [
        "##EDA"
      ]
    },
    {
      "cell_type": "code",
      "execution_count": null,
      "metadata": {
        "id": "oee-H5xAilKD"
      },
      "outputs": [],
      "source": [
        "####Sort the location? company logo?"
      ]
    },
    {
      "cell_type": "code",
      "execution_count": null,
      "metadata": {
        "id": "MblbJsdkphZv"
      },
      "outputs": [],
      "source": [
        "##"
      ]
    },
    {
      "cell_type": "code",
      "execution_count": null,
      "metadata": {
        "id": "ddkllKHPpkGo"
      },
      "outputs": [],
      "source": [
        "# tokenize the text\n",
        "cv = CountVectorizer(max_features=1000)\n",
        "dtm = cv.fit_transform(text_info).toarray()"
      ]
    },
    {
      "cell_type": "code",
      "execution_count": null,
      "metadata": {
        "id": "Ah7Qdq39pwrF"
      },
      "outputs": [],
      "source": [
        "# make a dataset for the model\n",
        "df2 = pd.DataFrame(dtm, columns=cv.get_feature_names_out())\n"
      ]
    },
    {
      "cell_type": "code",
      "execution_count": null,
      "metadata": {
        "id": "6lpKHoBmp04X"
      },
      "outputs": [],
      "source": [
        "df2.shape"
      ]
    },
    {
      "cell_type": "code",
      "source": [
        "17879*0.7"
      ],
      "metadata": {
        "id": "WZtoOJH0Niil"
      },
      "execution_count": null,
      "outputs": []
    },
    {
      "cell_type": "code",
      "execution_count": null,
      "metadata": {
        "id": "e-hG1yoMqAy2"
      },
      "outputs": [],
      "source": [
        "df2.sample(5)"
      ]
    },
    {
      "cell_type": "code",
      "execution_count": null,
      "metadata": {
        "id": "q0Wu9pF9aHlJ"
      },
      "outputs": [],
      "source": [
        "# df2[numeric] = job[numeric]"
      ]
    },
    {
      "cell_type": "code",
      "source": [
        "# df2.dropna(inplace=True)"
      ],
      "metadata": {
        "id": "kwDZ1X-bone9"
      },
      "execution_count": null,
      "outputs": []
    },
    {
      "cell_type": "code",
      "execution_count": null,
      "metadata": {
        "id": "LZnDbV9zaLMa"
      },
      "outputs": [],
      "source": [
        "try_1 = df2.to_numpy()"
      ]
    },
    {
      "cell_type": "markdown",
      "metadata": {
        "id": "L1OZ_GzwkrTP"
      },
      "source": [
        "##Spacy its like another pre-trained model, discuss to leave or del"
      ]
    },
    {
      "cell_type": "code",
      "execution_count": null,
      "metadata": {
        "id": "shfPueNSksmX"
      },
      "outputs": [],
      "source": [
        "# model = \"en_core_web_lg\" #md\n",
        "# cli.download(model)\n",
        "# nlp = spacy.load(model)"
      ]
    },
    {
      "cell_type": "code",
      "execution_count": null,
      "metadata": {
        "id": "SS-LGeEwk6F5"
      },
      "outputs": [],
      "source": [
        "# nlp.pipe_names"
      ]
    },
    {
      "cell_type": "code",
      "execution_count": null,
      "metadata": {
        "id": "oejsC_4Hk7hT"
      },
      "outputs": [],
      "source": [
        "# #process the text\n",
        "# EXCL = ['tagger', 'parser', 'attribute_ruler', 'lemmatizer', 'ner']\n",
        "# docs = list(nlp.pipe(text_info[0:1000], disable=EXCL))"
      ]
    },
    {
      "cell_type": "code",
      "execution_count": null,
      "metadata": {
        "id": "Nh79J8Apk9dR"
      },
      "outputs": [],
      "source": [
        "# #Get the vectors\n",
        "# dv = [doc.vector for doc in docs]\n",
        "# dv = np.array(dv)\n",
        "# dv.shape"
      ]
    },
    {
      "cell_type": "code",
      "execution_count": null,
      "metadata": {
        "id": "qpW0JbN3lAkf"
      },
      "outputs": [],
      "source": [
        "# goal = pd.DataFrame(dv, index=job.index, columns=range(0,300))"
      ]
    },
    {
      "cell_type": "code",
      "execution_count": null,
      "metadata": {
        "id": "ASO3RMp2lmpv"
      },
      "outputs": [],
      "source": [
        "# goal.head()"
      ]
    },
    {
      "cell_type": "code",
      "execution_count": null,
      "metadata": {
        "id": "XAPqGqYhluVJ"
      },
      "outputs": [],
      "source": [
        "# job.head()"
      ]
    },
    {
      "cell_type": "code",
      "execution_count": null,
      "metadata": {
        "id": "BmdTvziavFTF"
      },
      "outputs": [],
      "source": [
        "# job['required_experience'].unique()"
      ]
    },
    {
      "cell_type": "code",
      "execution_count": null,
      "metadata": {
        "id": "fdHs-nNNlw5e"
      },
      "outputs": [],
      "source": [
        "# numeric = ['telecommuting', 'has_company_logo','has_questions']"
      ]
    },
    {
      "cell_type": "code",
      "execution_count": null,
      "metadata": {
        "id": "McfUZVU_mBhi"
      },
      "outputs": [],
      "source": [
        "# goal[numeric] = job[numeric]"
      ]
    },
    {
      "cell_type": "code",
      "execution_count": null,
      "metadata": {
        "id": "uVvQFA5bmF-N"
      },
      "outputs": [],
      "source": [
        "# goal.head()"
      ]
    },
    {
      "cell_type": "code",
      "execution_count": null,
      "metadata": {
        "id": "u_HNBzbkmIhc"
      },
      "outputs": [],
      "source": [
        "# #Utilize uMAP for Dimension reduction \n",
        "# umap = UMAP(random_state=865)\n",
        "# embeds = umap.fit_transform(goal)"
      ]
    },
    {
      "cell_type": "code",
      "execution_count": null,
      "metadata": {
        "id": "YnTr5tCBmI0e"
      },
      "outputs": [],
      "source": [
        "# embeds.shape"
      ]
    },
    {
      "cell_type": "markdown",
      "metadata": {
        "id": "-dJ0mYC_oJ8k"
      },
      "source": [
        "##NN"
      ]
    },
    {
      "cell_type": "code",
      "execution_count": null,
      "metadata": {
        "id": "tOZvkwgXqoF5"
      },
      "outputs": [],
      "source": [
        "label = label[:1000]"
      ]
    },
    {
      "cell_type": "code",
      "source": [
        "from keras import layers\n",
        "def build_model():\n",
        "    inputs = keras.layers.Input(shape=(1), dtype=\"string\") # We take our strings as input \n",
        "    processing = text_vectorization(inputs)\n",
        "    one_hot = tf.one_hot(processing, depth=2000) # we one-hot encode those, so it becomes a length x2000 vector.\n",
        "    x = layers.Bidirectional(layers.LSTM(32))(one_hot)\n",
        "    x = layers.Dropout(0.5)(x)\n",
        "    outputs = layers.Dense(1, activation=\"sigmoid\")(x)\n",
        "\n",
        "    model = keras.Model(inputs,outputs)\n",
        "    model.compile(optimizer=\"rmsprop\",loss=\"binary_crossentropy\",metrics=['accuracy'])\n",
        "    return model\n",
        "\n",
        "model = build_model()\n",
        "\n",
        "keras.utils.plot_model(model, show_shapes=True)"
      ],
      "metadata": {
        "id": "FKwezYrMMsnH",
        "colab": {
          "base_uri": "https://localhost:8080/",
          "height": 644
        },
        "outputId": "f9e3fbc1-737b-4745-a67e-2657842ed9a5"
      },
      "execution_count": null,
      "outputs": [
        {
          "output_type": "execute_result",
          "data": {
            "text/plain": [
              "<IPython.core.display.Image object>"
            ],
            "image/png": "[encoded data removed]"
          },
          "metadata": {},
          "execution_count": 15
        }
      ]
    },
    {
      "cell_type": "code",
      "execution_count": null,
      "metadata": {
        "id": "90tAMk-Mrte0"
      },
      "outputs": [],
      "source": [
        "data_train = dataset[:700]\n",
        "labels_train = label[:700]\n",
        "data_test = text_info[700:]\n",
        "labels_test = label[700:]"
      ]
    },
    {
      "cell_type": "code",
      "execution_count": null,
      "metadata": {
        "id": "Ulh5UKUZrvZd"
      },
      "outputs": [],
      "source": [
        "k = 4\n",
        "num_validation_samples = len(data_train) // k\n",
        "num_epochs = 25\n",
        "batch_sizes = 25\n",
        "all_loss_histories = []\n",
        "all_val_loss_histories = []  \n",
        "all_acc_histories = []\n",
        "all_val_acc_histories = []\n",
        "\n",
        "# For each validation fold, we will train a full set of epochs, and store the history. \n",
        "for fold in range(k):\n",
        "    validation_data = data_train[num_validation_samples * fold:\n",
        "                           num_validation_samples * (fold + 1)]\n",
        "    validation_targets = labels_train[num_validation_samples * fold:\n",
        "                           num_validation_samples * (fold + 1)]\n",
        "    training_data = np.concatenate([\n",
        "        data_train[:num_validation_samples * fold],\n",
        "        data_train[num_validation_samples * (fold + 1):]])\n",
        "    training_targets = np.concatenate([\n",
        "        labels_train[:num_validation_samples * fold],\n",
        "        labels_train[num_validation_samples * (fold + 1):]])\n",
        "    model = build_model()\n",
        "    history = model.fit(training_data, training_targets, \n",
        "                        validation_data = (validation_data,validation_targets), \n",
        "                        epochs=num_epochs, batch_size=batch_sizes)\n",
        "    val_loss_history = history.history['val_loss']\n",
        "    val_acc_history = history.history['val_accuracy']\n",
        "    loss_history = history.history['loss']\n",
        "    acc_history = history.history['accuracy']\n",
        "    all_val_loss_histories.append(val_loss_history)\n",
        "    all_loss_histories.append(loss_history)\n",
        "    all_val_acc_histories.append(val_acc_history)\n",
        "    all_acc_histories.append(acc_history)\n",
        "\n",
        "average_loss_history = [np.mean([x[i] for x in all_loss_histories]) for i in range(num_epochs)]\n",
        "average_val_loss_history = [np.mean([x[i] for x in all_val_loss_histories]) for i in range(num_epochs)]\n",
        "average_acc_history = [np.mean([x[i] for x in all_acc_histories]) for i in range(num_epochs)]\n",
        "average_val_acc_history = [np.mean([x[i] for x in all_val_acc_histories]) for i in range(num_epochs)]"
      ]
    },
    {
      "cell_type": "code",
      "execution_count": null,
      "metadata": {
        "id": "wFTV_2Wm8LPA"
      },
      "outputs": [],
      "source": [
        "import matplotlib.pyplot as plt \n",
        "plt.style.use('ggplot')\n",
        "\n",
        "plt.plot(average_loss_history,c='r')\n",
        "plt.plot(average_acc_history,c=\"r\",linestyle=\"dashed\")\n",
        "plt.plot(average_val_loss_history,c='b')\n",
        "plt.plot(average_val_acc_history,c='b',linestyle=\"dashed\")\n",
        "plt.xlabel(\"Epochs\")\n",
        "plt.ylabel(\"Loss\")\n",
        "plt.legend(['Training Loss','Training Accuracy','Validation Loss','Validation Accuracy'])\n",
        "plt.show()"
      ]
    },
    {
      "cell_type": "markdown",
      "source": [
        "##RNN for Text. Transformer /w Multi-Head Attention Layer*"
      ],
      "metadata": {
        "id": "QaAN_bGxLaxm"
      }
    },
    {
      "cell_type": "code",
      "source": [
        "import tensorflow as tf\n",
        "from tensorflow import keras\n",
        "from tensorflow.keras import layers\n",
        "  \n",
        "class TransformerEncoder(layers.Layer):\n",
        "    def __init__(self, embed_dim, dense_dim, num_heads, **kwargs): # Dense dim is how many nodes in the dense layer projection. # Embed dimension is dim of embeddings.\n",
        "        super().__init__(**kwargs)\n",
        "        self.embed_dim = embed_dim\n",
        "        self.dense_dim = dense_dim\n",
        "        self.num_heads = num_heads\n",
        "        self.attention = layers.MultiHeadAttention(\n",
        "            num_heads=num_heads, key_dim=embed_dim)\n",
        "        self.dense_proj = keras.Sequential(\n",
        "            [layers.Dense(dense_dim, activation=\"relu\"),\n",
        "             layers.Dense(embed_dim),]\n",
        "        )\n",
        "        self.layernorm_1 = layers.LayerNormalization()\n",
        "        self.layernorm_2 = layers.LayerNormalization()\n",
        "    def call(self, inputs, mask=None):\n",
        "        if mask is not None:\n",
        "            mask = mask[:, tf.newaxis, :]\n",
        "        attention_output = self.attention(\n",
        "            inputs, inputs, attention_mask=mask)\n",
        "        proj_input = self.layernorm_1(inputs + attention_output)\n",
        "        proj_output = self.dense_proj(proj_input)\n",
        "        return self.layernorm_2(proj_input + proj_output)\n",
        "  \n",
        "    def get_config(self):\n",
        "        config = super().get_config()\n",
        "        config.update({\n",
        "            \"embed_dim\": self.embed_dim,\n",
        "            \"num_heads\": self.num_heads,\n",
        "            \"dense_dim\": self.dense_dim,\n",
        "        })\n",
        "        return config"
      ],
      "metadata": {
        "id": "F32R63_ELfHv"
      },
      "execution_count": null,
      "outputs": []
    },
    {
      "cell_type": "code",
      "source": [
        "vocabulary = text_vectorization.get_vocabulary()\n",
        "processed_text = text_vectorization(dataset)\n",
        "\n",
        "vocab_size = len(vocabulary)\n",
        "embed_dim = 100\n",
        "num_heads = 2\n",
        "dense_dim = 32 # How many dense nodes in the transformer Dense layer\n",
        "\n",
        "def build_transformer():\n",
        "\n",
        "    inputs = keras.Input(shape=(None,), dtype=\"int64\")\n",
        "\n",
        "    # This model will learn its own custom embedding layer.\n",
        "    x = layers.Embedding(vocab_size, embed_dim)(inputs)\n",
        "    x = TransformerEncoder(embed_dim, dense_dim, num_heads)(x)\n",
        "    x = layers.GlobalMaxPooling1D()(x)\n",
        "    x = layers.Dropout(0.5)(x)\n",
        "    outputs = layers.Dense(1, activation=\"sigmoid\")(x)\n",
        "    model = keras.Model(inputs, outputs)\n",
        "    model.compile(optimizer=\"rmsprop\",\n",
        "                  loss=\"binary_crossentropy\",\n",
        "                  metrics=[\"accuracy\"])\n",
        "    \n",
        "    return model\n",
        "\n",
        "model_transformer = build_transformer()\n",
        "keras.utils.plot_model(model_transformer, show_shapes=True)"
      ],
      "metadata": {
        "colab": {
          "base_uri": "https://localhost:8080/",
          "height": 644
        },
        "id": "OgDX9l5NIyrR",
        "outputId": "9b64b9c8-474c-4fd1-aa40-3e7ba3da31ea"
      },
      "execution_count": null,
      "outputs": [
        {
          "output_type": "execute_result",
          "data": {
            "text/plain": [
              "<IPython.core.display.Image object>"
            ],
            "image/png": "[encoded data removed]"
          },
          "metadata": {},
          "execution_count": 22
        }
      ]
    },
    {
      "cell_type": "code",
      "source": [
        "from google.colab import drive\n",
        "drive.mount('/content/drive', force_remount=True)\n",
        "callbacks = [\n",
        "    keras.callbacks.ModelCheckpoint(\n",
        "        filepath=\"/content/drive/Shareddrives/BA865 Advanced Analytics/Dataset/convnet_from_scratch.keras/convnet_from_scratch.keras\",\n",
        "        save_best_only=True,\n",
        "        monitor=\"val_loss\")\n",
        "]\n",
        "model_transformer = build_transformer()\n",
        "\n",
        "history = model_transformer.fit(processed_text[:700], labels_train, validation_split=0.2, batch_size=1,epochs=20, callbacks=callbacks)"
      ],
      "metadata": {
        "id": "luActwhhI6j9",
        "colab": {
          "base_uri": "https://localhost:8080/"
        },
        "outputId": "bcae175c-cd3e-4969-e1fc-8a276fb274b0"
      },
      "execution_count": null,
      "outputs": [
        {
          "output_type": "stream",
          "name": "stdout",
          "text": [
            "Mounted at /content/drive\n",
            "Epoch 1/20\n",
            "560/560 [==============================] - 109s 189ms/step - loss: 0.0059 - accuracy: 0.9982 - val_loss: 3.7043e-10 - val_accuracy: 1.0000\n",
            "Epoch 2/20\n",
            "560/560 [==============================] - 103s 184ms/step - loss: 5.5478e-09 - accuracy: 1.0000 - val_loss: 7.6874e-11 - val_accuracy: 1.0000\n",
            "Epoch 3/20\n",
            "560/560 [==============================] - 102s 182ms/step - loss: 6.4123e-10 - accuracy: 1.0000 - val_loss: 4.2910e-11 - val_accuracy: 1.0000\n",
            "Epoch 4/20\n",
            "560/560 [==============================] - 103s 185ms/step - loss: 2.7895e-10 - accuracy: 1.0000 - val_loss: 3.0515e-11 - val_accuracy: 1.0000\n",
            "Epoch 5/20\n",
            "560/560 [==============================] - 104s 185ms/step - loss: 2.2128e-10 - accuracy: 1.0000 - val_loss: 2.6446e-11 - val_accuracy: 1.0000\n",
            "Epoch 6/20\n",
            "560/560 [==============================] - 103s 185ms/step - loss: 8.3164e-10 - accuracy: 1.0000 - val_loss: 2.0709e-11 - val_accuracy: 1.0000\n",
            "Epoch 7/20\n",
            "560/560 [==============================] - 103s 185ms/step - loss: 2.4146e-10 - accuracy: 1.0000 - val_loss: 1.6359e-11 - val_accuracy: 1.0000\n",
            "Epoch 8/20\n",
            "560/560 [==============================] - 103s 184ms/step - loss: 1.7623e-10 - accuracy: 1.0000 - val_loss: 1.3561e-11 - val_accuracy: 1.0000\n",
            "Epoch 9/20\n",
            "560/560 [==============================] - 102s 183ms/step - loss: 2.7042e-10 - accuracy: 1.0000 - val_loss: 1.1345e-11 - val_accuracy: 1.0000\n",
            "Epoch 10/20\n",
            "560/560 [==============================] - 103s 184ms/step - loss: 1.3527e-10 - accuracy: 1.0000 - val_loss: 1.0619e-11 - val_accuracy: 1.0000\n",
            "Epoch 11/20\n",
            "560/560 [==============================] - 103s 184ms/step - loss: 1.1292e-09 - accuracy: 1.0000 - val_loss: 7.8615e-12 - val_accuracy: 1.0000\n",
            "Epoch 12/20\n",
            "560/560 [==============================] - 108s 193ms/step - loss: 1.1861e-10 - accuracy: 1.0000 - val_loss: 6.6553e-12 - val_accuracy: 1.0000\n",
            "Epoch 13/20\n",
            "560/560 [==============================] - 111s 198ms/step - loss: 4.8535e-11 - accuracy: 1.0000 - val_loss: 6.1305e-12 - val_accuracy: 1.0000\n",
            "Epoch 14/20\n",
            "560/560 [==============================] - 110s 196ms/step - loss: 1.0364e-10 - accuracy: 1.0000 - val_loss: 5.6124e-12 - val_accuracy: 1.0000\n",
            "Epoch 15/20\n",
            "560/560 [==============================] - 108s 193ms/step - loss: 2.1087e-10 - accuracy: 1.0000 - val_loss: 4.6190e-12 - val_accuracy: 1.0000\n",
            "Epoch 16/20\n",
            "560/560 [==============================] - 107s 192ms/step - loss: 3.4074e-11 - accuracy: 1.0000 - val_loss: 4.4976e-12 - val_accuracy: 1.0000\n",
            "Epoch 17/20\n",
            "560/560 [==============================] - 108s 192ms/step - loss: 5.2849e-10 - accuracy: 1.0000 - val_loss: 3.8469e-12 - val_accuracy: 1.0000\n",
            "Epoch 18/20\n",
            "560/560 [==============================] - 109s 194ms/step - loss: 7.5708e-11 - accuracy: 1.0000 - val_loss: 3.3949e-12 - val_accuracy: 1.0000\n",
            "Epoch 19/20\n",
            "560/560 [==============================] - 109s 196ms/step - loss: 5.5046e-11 - accuracy: 1.0000 - val_loss: 3.1151e-12 - val_accuracy: 1.0000\n",
            "Epoch 20/20\n",
            "560/560 [==============================] - 109s 195ms/step - loss: 8.7132e-11 - accuracy: 1.0000 - val_loss: 2.9875e-12 - val_accuracy: 1.0000\n"
          ]
        }
      ]
    },
    {
      "cell_type": "code",
      "source": [
        "import matplotlib.pyplot as plt\n",
        "plt.style.use('ggplot')\n",
        "\n",
        "plt.plot(history.history['loss'],c=\"r\")\n",
        "plt.plot(history.history['val_loss'],c=\"b\")\n",
        "plt.plot(history.history['accuracy'],c=\"r\",linestyle=\"--\")\n",
        "plt.plot(history.history['val_accuracy'],c=\"b\",linestyle=\"--\")\n",
        "plt.legend(['Training Loss','Validation Loss','Training Acc','Validation Acc'])\n",
        "plt.show()\n",
        "\n",
        "model = build_transformer()\n",
        "model.load_weights(\"transformer_encoder.keras\")\n",
        "print(f\"Test acc: {model.evaluate(processed_text[700:],labels_test)[1]:.3f}\")"
      ],
      "metadata": {
        "id": "HleZG8jyRLjO"
      },
      "execution_count": null,
      "outputs": []
    },
    {
      "cell_type": "markdown",
      "source": [
        "##Pre-trained model - embeddings"
      ],
      "metadata": {
        "id": "G0MpOe6KUH3E"
      }
    },
    {
      "cell_type": "code",
      "source": [
        "#Model Using Bidirectional LSTM \n",
        "def build_model_embed():\n",
        "    inputs = keras.layers.Input(shape=(1), dtype=\"string\") # We take our strings as input \n",
        "    processing = text_vectorization(inputs)\n",
        "    \n",
        "    # Truncates after 600 tokens, and pads up to 600 tokens for shorter reviews.\n",
        "    # Mask zero means it will skip 0 tokens and will not pass them on.\n",
        "    embedding = keras.layers.Embedding(input_dim=2000,output_dim=8,input_length=600, mask_zero=True)(processing)\n",
        "    \n",
        "    x = keras.layers.Bidirectional(keras.layers.LSTM(32))(embedding)\n",
        "    x = keras.layers.Dropout(0.5)(x)\n",
        "    outputs = keras.layers.Dense(1, activation=\"sigmoid\")(x)\n",
        "\n",
        "    model = keras.Model(inputs,outputs)\n",
        "    model.compile(optimizer=\"rmsprop\",loss=\"binary_crossentropy\",metrics=['accuracy'])\n",
        "    return model\n",
        "\n",
        "model_embed = build_model_embed()\n",
        "\n",
        "keras.utils.plot_model(model_embed, show_shapes=True)"
      ],
      "metadata": {
        "id": "TtwJKFiyUMjk",
        "colab": {
          "base_uri": "https://localhost:8080/",
          "height": 644
        },
        "outputId": "a49ca838-d80d-4c60-add7-81e5510db797"
      },
      "execution_count": null,
      "outputs": [
        {
          "output_type": "execute_result",
          "data": {
            "text/plain": [
              "<IPython.core.display.Image object>"
            ],
            "image/png": "[encoded data removed]"
          },
          "metadata": {},
          "execution_count": 33
        }
      ]
    },
    {
      "cell_type": "code",
      "source": [
        "k = 2\n",
        "num_validation_samples = len(data_train) // k\n",
        "num_epochs = 25\n",
        "batch_sizes = 25\n",
        "all_loss_histories = []\n",
        "all_val_loss_histories = []  \n",
        "all_acc_histories = []\n",
        "all_val_acc_histories = []\n",
        "\n",
        "# For each validation fold, we will train a full set of epochs, and store the history. \n",
        "for fold in range(k):\n",
        "    validation_data = data_train[num_validation_samples * fold:\n",
        "                           num_validation_samples * (fold + 1)]\n",
        "    validation_targets = labels_train[num_validation_samples * fold:\n",
        "                           num_validation_samples * (fold + 1)]\n",
        "    training_data = np.concatenate([\n",
        "        data_train[:num_validation_samples * fold],\n",
        "        data_train[num_validation_samples * (fold + 1):]])\n",
        "    training_targets = np.concatenate([\n",
        "        labels_train[:num_validation_samples * fold],\n",
        "        labels_train[num_validation_samples * (fold + 1):]])\n",
        "    model = build_model_embed()\n",
        "    history = model.fit(training_data, training_targets, \n",
        "                        validation_data = (validation_data,validation_targets), \n",
        "                        epochs=num_epochs, batch_size=batch_sizes)\n",
        "    val_loss_history = history.history['val_loss']\n",
        "    val_acc_history = history.history['val_accuracy']\n",
        "    loss_history = history.history['loss']\n",
        "    acc_history = history.history['accuracy']\n",
        "    all_val_loss_histories.append(val_loss_history)\n",
        "    all_loss_histories.append(loss_history)\n",
        "    all_val_acc_histories.append(val_acc_history)\n",
        "    all_acc_histories.append(acc_history)\n",
        "\n",
        "average_loss_history = [np.mean([x[i] for x in all_loss_histories]) for i in range(num_epochs)]\n",
        "average_val_loss_history = [np.mean([x[i] for x in all_val_loss_histories]) for i in range(num_epochs)]\n",
        "average_acc_history = [np.mean([x[i] for x in all_acc_histories]) for i in range(num_epochs)]\n",
        "average_val_acc_history = [np.mean([x[i] for x in all_val_acc_histories]) for i in range(num_epochs)]"
      ],
      "metadata": {
        "id": "LO6D5LoQKM82"
      },
      "execution_count": null,
      "outputs": []
    },
    {
      "cell_type": "code",
      "source": [
        "import matplotlib.pyplot as plt \n",
        "plt.style.use('ggplot')\n",
        "\n",
        "plt.plot(average_loss_history,c='r')\n",
        "plt.plot(average_acc_history,c=\"r\",linestyle=\"dashed\")\n",
        "plt.plot(average_val_loss_history,c='b')\n",
        "plt.plot(average_val_acc_history,c='b',linestyle=\"dashed\")\n",
        "plt.xlabel(\"Epochs\")\n",
        "plt.legend(['Training Loss','Training Accuracy','Validation Loss','Validation Accuracy'])\n",
        "plt.show()"
      ],
      "metadata": {
        "id": "Ys1ONyKaKPgn"
      },
      "execution_count": null,
      "outputs": []
    },
    {
      "cell_type": "code",
      "source": [
        "model_embed = build_model_embed()\n",
        "model_embed.fit(data_train,labels_train,epochs=9,batch_size=25)\n",
        "\n",
        "test_acc = model_embed.evaluate(data_test,labels_test)[1]*100\n",
        "print(f'The resulting model is about {test_acc:.2f}% accurate in the holdout sample.')"
      ],
      "metadata": {
        "id": "L3R5T5f_KUm7"
      },
      "execution_count": null,
      "outputs": []
    },
    {
      "cell_type": "markdown",
      "source": [
        "##Clustering"
      ],
      "metadata": {
        "id": "58R-PUSLIiK0"
      }
    },
    {
      "cell_type": "code",
      "source": [
        ""
      ],
      "metadata": {
        "id": "hEL9YMJIIyyJ"
      },
      "execution_count": null,
      "outputs": []
    },
    {
      "cell_type": "code",
      "source": [
        ""
      ],
      "metadata": {
        "id": "7oGy1NHCIy-p"
      },
      "execution_count": null,
      "outputs": []
    },
    {
      "cell_type": "markdown",
      "source": [
        "##Sentiment analysis"
      ],
      "metadata": {
        "id": "1C7IiWreIvGK"
      }
    },
    {
      "cell_type": "code",
      "source": [
        ""
      ],
      "metadata": {
        "id": "6jsJ1__DIzhQ"
      },
      "execution_count": null,
      "outputs": []
    },
    {
      "cell_type": "code",
      "source": [
        ""
      ],
      "metadata": {
        "id": "pjwqZ6NRIzbU"
      },
      "execution_count": null,
      "outputs": []
    },
    {
      "cell_type": "markdown",
      "source": [
        "##Word Cloud"
      ],
      "metadata": {
        "id": "DGUCZkIoI3FY"
      }
    },
    {
      "cell_type": "code",
      "source": [
        ""
      ],
      "metadata": {
        "id": "q9gOA5goi8wD"
      },
      "execution_count": null,
      "outputs": []
    },
    {
      "cell_type": "code",
      "source": [
        ""
      ],
      "metadata": {
        "id": "Gm3mqAmRi8kD"
      },
      "execution_count": null,
      "outputs": []
    }
  ],
  "metadata": {
    "colab": {
      "name": "Copy of BA865_TeamReal_FakeJobAnalytics.ipynb",
      "provenance": [],
      "collapsed_sections": [
        "Zbgt5LRsiP_G"
      ],
      "include_colab_link": true
    },
    "kernelspec": {
      "display_name": "Python 3",
      "name": "python3"
    },
    "language_info": {
      "name": "python"
    }
  },
  "nbformat": 4,
  "nbformat_minor": 0
}